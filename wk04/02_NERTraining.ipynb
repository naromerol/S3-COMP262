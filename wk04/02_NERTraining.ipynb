{
 "cells": [
  {
   "cell_type": "markdown",
   "metadata": {
    "colab_type": "text",
    "id": "P7pplVJgcnAQ"
   },
   "source": [
    "This notebook illustrates how to train a NER model using the well known CONLL dataset, and sklearn_crfsuite library. "
   ]
  },
  {
   "cell_type": "markdown",
   "metadata": {
    "colab_type": "text",
    "id": "_EImA3uAeUoS"
   },
   "source": [
    "### Importing Necessary Libraries"
   ]
  },
  {
   "cell_type": "code",
   "execution_count": 1,
   "metadata": {},
   "outputs": [
    {
     "name": "stdout",
     "output_type": "stream",
     "text": [
      "Requirement already satisfied: sklearn-crfsuite in c:\\dev\\anaconda3\\envs\\comp262_2\\lib\\site-packages (0.3.6)\n",
      "Requirement already satisfied: six in c:\\dev\\anaconda3\\envs\\comp262_2\\lib\\site-packages (from sklearn-crfsuite) (1.16.0)\n",
      "Note: you may need to restart the kernel to use updated packages.Requirement already satisfied: tabulate in c:\\dev\\anaconda3\\envs\\comp262_2\\lib\\site-packages (from sklearn-crfsuite) (0.8.9)\n",
      "Requirement already satisfied: python-crfsuite>=0.8.3 in c:\\dev\\anaconda3\\envs\\comp262_2\\lib\\site-packages (from sklearn-crfsuite) (0.9.7)\n",
      "\n",
      "Requirement already satisfied: tqdm>=2.0 in c:\\dev\\anaconda3\\envs\\comp262_2\\lib\\site-packages (from sklearn-crfsuite) (4.62.3)\n",
      "Requirement already satisfied: colorama in c:\\dev\\anaconda3\\envs\\comp262_2\\lib\\site-packages (from tqdm>=2.0->sklearn-crfsuite) (0.4.4)\n"
     ]
    }
   ],
   "source": [
    "%pip install sklearn-crfsuite"
   ]
  },
  {
   "cell_type": "code",
   "execution_count": 2,
   "metadata": {
    "colab": {},
    "colab_type": "code",
    "id": "260mW70zcnAR"
   },
   "outputs": [],
   "source": [
    "#Make the necessary imports\n",
    "from nltk.tag import pos_tag\n",
    "from sklearn_crfsuite import CRF, metrics\n",
    "from sklearn.metrics import make_scorer,confusion_matrix\n",
    "from pprint import pprint\n",
    "from sklearn.metrics import f1_score,classification_report\n",
    "from sklearn.pipeline import Pipeline\n",
    "import string\n"
   ]
  },
  {
   "cell_type": "markdown",
   "metadata": {
    "colab_type": "text",
    "id": "23NhWgM4eT9l"
   },
   "source": [
    "### Loading The Data"
   ]
  },
  {
   "cell_type": "code",
   "execution_count": 3,
   "metadata": {
    "colab": {},
    "colab_type": "code",
    "id": "3f-Pvr5tcnAg"
   },
   "outputs": [],
   "source": [
    "\"\"\"\n",
    "Load the training/testing data. \n",
    "input: conll format data, but with only 2 tab separated colums - words and NEtags.\n",
    "output: A list where each item is 2 lists.  sentence as a list of tokens, NER tags as a list for each token.\n",
    "\"\"\"\n",
    "def load__data_conll(file_path):\n",
    "    myoutput,words,tags = [],[],[]\n",
    "    fh = open(file_path)\n",
    "    for line in fh:\n",
    "        line = line.strip()\n",
    "        if \"\\t\" not in line:\n",
    "            #Sentence ended.\n",
    "            myoutput.append([words,tags])\n",
    "            words,tags = [],[]\n",
    "        else:\n",
    "            word, tag = line.split(\"\\t\")\n",
    "            words.append(word)\n",
    "            tags.append(tag)\n",
    "    fh.close()\n",
    "    return myoutput\n"
   ]
  },
  {
   "cell_type": "code",
   "execution_count": 4,
   "metadata": {
    "colab": {},
    "colab_type": "code",
    "id": "EZNEu753cnAl"
   },
   "outputs": [],
   "source": [
    "\"\"\"\n",
    "Get features for all words in the sentence\n",
    "Features:\n",
    "- word context: a window of 2 words on either side of the current word, and current word.\n",
    "- POS context: a window of 2 POS tags on either side of the current word, and current tag. \n",
    "input: sentence as a list of tokens.\n",
    "output: list of dictionaries. each dict represents features for that word.\n",
    "\"\"\"\n",
    "def sent2feats(sentence):\n",
    "    feats = []\n",
    "    sen_tags = pos_tag(sentence) #This format is specific to this POS tagger!\n",
    "    for i in range(0,len(sentence)):\n",
    "        word = sentence[i]\n",
    "        wordfeats = {}\n",
    "       #word features: word, prev 2 words, next 2 words in the sentence.\n",
    "        wordfeats['word'] = word\n",
    "        if i == 0:\n",
    "            wordfeats[\"prevWord\"] = wordfeats[\"prevSecondWord\"] = \"<S>\"\n",
    "        elif i==1:\n",
    "            wordfeats[\"prevWord\"] = sentence[0]\n",
    "            wordfeats[\"prevSecondWord\"] = \"</S>\"\n",
    "        else:\n",
    "            wordfeats[\"prevWord\"] = sentence[i-1]\n",
    "            wordfeats[\"prevSecondWord\"] = sentence[i-2]\n",
    "        #next two words as features\n",
    "        if i == len(sentence)-2:\n",
    "            wordfeats[\"nextWord\"] = sentence[i+1]\n",
    "            wordfeats[\"nextNextWord\"] = \"</S>\"\n",
    "        elif i==len(sentence)-1:\n",
    "            wordfeats[\"nextWord\"] = \"</S>\"\n",
    "            wordfeats[\"nextNextWord\"] = \"</S>\"\n",
    "        else:\n",
    "            wordfeats[\"nextWord\"] = sentence[i+1]\n",
    "            wordfeats[\"nextNextWord\"] = sentence[i+2]\n",
    "        \n",
    "        #POS tag features: current tag, previous and next 2 tags.\n",
    "        wordfeats['tag'] = sen_tags[i][1]\n",
    "        if i == 0:\n",
    "            wordfeats[\"prevTag\"] = wordfeats[\"prevSecondTag\"] = \"<S>\"\n",
    "        elif i == 1:\n",
    "            wordfeats[\"prevTag\"] = sen_tags[0][1]\n",
    "            wordfeats[\"prevSecondTag\"] = \"</S>\"\n",
    "        else:\n",
    "            wordfeats[\"prevTag\"] = sen_tags[i - 1][1]\n",
    "\n",
    "            wordfeats[\"prevSecondTag\"] = sen_tags[i - 2][1]\n",
    "            # next two words as features\n",
    "        if i == len(sentence) - 2:\n",
    "            wordfeats[\"nextTag\"] = sen_tags[i + 1][1]\n",
    "            wordfeats[\"nextNextTag\"] = \"</S>\"\n",
    "        elif i == len(sentence) - 1:\n",
    "            wordfeats[\"nextTag\"] = \"</S>\"\n",
    "            wordfeats[\"nextNextTag\"] = \"</S>\"\n",
    "        else:\n",
    "            wordfeats[\"nextTag\"] = sen_tags[i + 1][1]\n",
    "            wordfeats[\"nextNextTag\"] = sen_tags[i + 2][1]\n",
    "        #That is it! You can add whatever you want!\n",
    "        feats.append(wordfeats)\n",
    "    return feats\n"
   ]
  },
  {
   "cell_type": "markdown",
   "metadata": {
    "colab_type": "text",
    "id": "kBNaaDJce102"
   },
   "source": [
    "### Extracting Features"
   ]
  },
  {
   "cell_type": "code",
   "execution_count": 5,
   "metadata": {
    "colab": {},
    "colab_type": "code",
    "id": "LmB5emVicnA1"
   },
   "outputs": [],
   "source": [
    "#Extract features from the conll data, after loading it.\n",
    "def get_feats_conll(conll_data):\n",
    "    feats = []\n",
    "    labels = []\n",
    "    for sentence in conll_data:\n",
    "        feats.append(sent2feats(sentence[0]))\n",
    "        labels.append(sentence[1])\n",
    "    return feats, labels"
   ]
  },
  {
   "cell_type": "markdown",
   "metadata": {
    "colab_type": "text",
    "id": "S7TO_UXBe6Lg"
   },
   "source": [
    "### Training a Model"
   ]
  },
  {
   "cell_type": "code",
   "execution_count": 6,
   "metadata": {},
   "outputs": [
    {
     "name": "stdout",
     "output_type": "stream",
     "text": [
      "Help on function flat_classification_report in module sklearn_crfsuite.metrics:\n",
      "\n",
      "flat_classification_report(y_true, y_pred, labels=None, **kwargs)\n",
      "    Return classification report for sequence items.\n",
      "\n"
     ]
    },
    {
     "ename": "NameError",
     "evalue": "name 'sklearn' is not defined",
     "output_type": "error",
     "traceback": [
      "\u001b[1;31m---------------------------------------------------------------------------\u001b[0m",
      "\u001b[1;31mNameError\u001b[0m                                 Traceback (most recent call last)",
      "Input \u001b[1;32mIn [6]\u001b[0m, in \u001b[0;36m<module>\u001b[1;34m\u001b[0m\n\u001b[0;32m      1\u001b[0m help(metrics\u001b[38;5;241m.\u001b[39mflat_classification_report)\n\u001b[1;32m----> 2\u001b[0m \u001b[43msklearn\u001b[49m\u001b[38;5;241m.\u001b[39minfo()\n",
      "\u001b[1;31mNameError\u001b[0m: name 'sklearn' is not defined"
     ]
    }
   ],
   "source": [
    "help(metrics.flat_classification_report)\n",
    "sklearn.info()"
   ]
  },
  {
   "cell_type": "code",
   "execution_count": null,
   "metadata": {
    "colab": {},
    "colab_type": "code",
    "id": "7bo-XzixcnBA"
   },
   "outputs": [],
   "source": [
    "\n",
    "#Train a sequence model\n",
    "def train_seq(X_train,Y_train,X_dev,Y_dev):\n",
    "   # crf = CRF(algorithm='lbfgs', c1=0.1, c2=0.1, max_iterations=50, all_possible_states=True)\n",
    "    crf = CRF(algorithm='lbfgs', c1=0.1, c2=10, max_iterations=50)#, all_possible_states=True)\n",
    "    #Just to fit on training data\n",
    "    crf.fit(X_train, Y_train)\n",
    "    labels = list(crf.classes_)\n",
    "    #testing:\n",
    "    y_pred = crf.predict(X_dev)\n",
    "    sorted_labels = sorted(labels, key=lambda name: (name[1:], name[0]))\n",
    "    print(metrics.flat_f1_score(Y_dev, y_pred,average='weighted', labels=labels))\n",
    "    # print(metrics.flat_classification_report(Y_dev, y_pred, labels=sorted_labels, digits=3))\n",
    "    print(metrics.flat_classification_report(Y_dev, y_pred))\n",
    "    #print(metrics.sequence_accuracy_score(Y_dev, y_pred))\n",
    "    get_confusion_matrix(Y_dev, y_pred,labels=sorted_labels)\n"
   ]
  },
  {
   "cell_type": "markdown",
   "metadata": {
    "colab_type": "text",
    "id": "8OyfLwkYe_lz"
   },
   "source": [
    "Confusion Matrix helper function . Source for this function is [here](https://gist.github.com/zachguo/10296432)"
   ]
  },
  {
   "cell_type": "code",
   "execution_count": null,
   "metadata": {
    "colab": {},
    "colab_type": "code",
    "id": "khGXUWBScnBL"
   },
   "outputs": [],
   "source": [
    "def print_cm(cm, labels):\n",
    "    print(\"\\n\")\n",
    "    \"\"\"pretty print for confusion matrixes\"\"\"\n",
    "    columnwidth = max([len(x) for x in labels] + [5])  # 5 is value length\n",
    "    empty_cell = \" \" * columnwidth\n",
    "    # Print header\n",
    "    print(\"    \" + empty_cell, end=\" \")\n",
    "    for label in labels:\n",
    "        print(\"%{0}s\".format(columnwidth) % label, end=\" \")\n",
    "    print()\n",
    "    # Print rows\n",
    "    for i, label1 in enumerate(labels):\n",
    "        print(\"    %{0}s\".format(columnwidth) % label1, end=\" \")\n",
    "        sum = 0\n",
    "        for j in range(len(labels)):\n",
    "            cell = \"%{0}.0f\".format(columnwidth) % cm[i, j]\n",
    "            sum =  sum + int(cell)\n",
    "            print(cell, end=\" \")\n",
    "        print(sum) #Prints the total number of instances per cat at the end.\n"
   ]
  },
  {
   "cell_type": "code",
   "execution_count": null,
   "metadata": {
    "colab": {},
    "colab_type": "code",
    "id": "5vy2dLg2cnBe"
   },
   "outputs": [],
   "source": [
    "#python-crfsuite does not have a confusion matrix function, \n",
    "#so writing it using sklearn's confusion matrix and print_cm from github\n",
    "def get_confusion_matrix(y_true,y_pred,labels):\n",
    "    trues,preds = [], []\n",
    "    for yseq_true, yseq_pred in zip(y_true, y_pred):\n",
    "        trues.extend(yseq_true)\n",
    "        preds.extend(yseq_pred)\n",
    "    print_cm(confusion_matrix(trues,preds,labels=labels),labels)"
   ]
  },
  {
   "cell_type": "markdown",
   "metadata": {
    "colab_type": "text",
    "id": "IYAlUXyRfPzf"
   },
   "source": [
    "### Call all our functions inside the main method"
   ]
  },
  {
   "cell_type": "code",
   "execution_count": null,
   "metadata": {
    "colab": {},
    "colab_type": "code",
    "id": "GtkLBZF-cnBr",
    "outputId": "4eaf8838-d550-45b4-eba7-39b36b3e9004",
    "scrolled": true
   },
   "outputs": [],
   "source": [
    "\n",
    "def main():\n",
    "    train_path = 'Data/conlldata/train.txt'\n",
    "    test_path = 'Data/conlldata/test.txt'\n",
    "    conll_train = load__data_conll(train_path)\n",
    "    conll_dev = load__data_conll(test_path)\n",
    "    \n",
    "    print(\"Training a Sequence classification model with CRF\")\n",
    "    feats, labels = get_feats_conll(conll_train)\n",
    "    devfeats, devlabels = get_feats_conll(conll_dev)\n",
    "    train_seq(feats, labels, devfeats, devlabels)\n",
    "    print(\"Done with sequence model\")\n",
    "\n",
    "if __name__==\"__main__\":\n",
    "    main()\n"
   ]
  },
  {
   "cell_type": "markdown",
   "metadata": {
    "colab_type": "text",
    "id": "-xwubY50cnB1"
   },
   "source": [
    "This is pretty good. We already have a model which has an F-score of 92%!!!"
   ]
  },
  {
   "cell_type": "code",
   "execution_count": null,
   "metadata": {
    "colab": {},
    "colab_type": "code",
    "id": "reO-wnZocnB2"
   },
   "outputs": [],
   "source": []
  }
 ],
 "metadata": {
  "colab": {
   "name": "NERTraining.ipynb",
   "provenance": []
  },
  "kernelspec": {
   "display_name": "Python [conda env:comp262_2]",
   "language": "python",
   "name": "conda-env-comp262_2-py"
  },
  "language_info": {
   "codemirror_mode": {
    "name": "ipython",
    "version": 3
   },
   "file_extension": ".py",
   "mimetype": "text/x-python",
   "name": "python",
   "nbconvert_exporter": "python",
   "pygments_lexer": "ipython3",
   "version": "3.8.12"
  }
 },
 "nbformat": 4,
 "nbformat_minor": 1
}
