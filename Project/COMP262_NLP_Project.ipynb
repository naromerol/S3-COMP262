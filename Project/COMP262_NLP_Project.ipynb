{
 "cells": [
  {
   "cell_type": "markdown",
   "id": "cec40d17",
   "metadata": {},
   "source": [
    "**Musical Instruments Review Analysis**\n",
    "\n",
    "COMP262 - Group 3"
   ]
  },
  {
   "cell_type": "code",
   "execution_count": 123,
   "id": "ce849331",
   "metadata": {},
   "outputs": [
    {
     "data": {
      "text/html": [
       "<div>\n",
       "<style scoped>\n",
       "    .dataframe tbody tr th:only-of-type {\n",
       "        vertical-align: middle;\n",
       "    }\n",
       "\n",
       "    .dataframe tbody tr th {\n",
       "        vertical-align: top;\n",
       "    }\n",
       "\n",
       "    .dataframe thead th {\n",
       "        text-align: right;\n",
       "    }\n",
       "</style>\n",
       "<table border=\"1\" class=\"dataframe\">\n",
       "  <thead>\n",
       "    <tr style=\"text-align: right;\">\n",
       "      <th></th>\n",
       "      <th>reviewerID</th>\n",
       "      <th>asin</th>\n",
       "      <th>reviewerName</th>\n",
       "      <th>helpful</th>\n",
       "      <th>reviewText</th>\n",
       "      <th>overall</th>\n",
       "      <th>summary</th>\n",
       "      <th>unixReviewTime</th>\n",
       "      <th>reviewTime</th>\n",
       "    </tr>\n",
       "  </thead>\n",
       "  <tbody>\n",
       "    <tr>\n",
       "      <th>0</th>\n",
       "      <td>A2IBPI20UZIR0U</td>\n",
       "      <td>1384719342</td>\n",
       "      <td>cassandra tu \"Yeah, well, that's just like, u...</td>\n",
       "      <td>[0, 0]</td>\n",
       "      <td>Not much to write about here, but it does exac...</td>\n",
       "      <td>5</td>\n",
       "      <td>good</td>\n",
       "      <td>1393545600</td>\n",
       "      <td>02 28, 2014</td>\n",
       "    </tr>\n",
       "    <tr>\n",
       "      <th>1</th>\n",
       "      <td>A14VAT5EAX3D9S</td>\n",
       "      <td>1384719342</td>\n",
       "      <td>Jake</td>\n",
       "      <td>[13, 14]</td>\n",
       "      <td>The product does exactly as it should and is q...</td>\n",
       "      <td>5</td>\n",
       "      <td>Jake</td>\n",
       "      <td>1363392000</td>\n",
       "      <td>03 16, 2013</td>\n",
       "    </tr>\n",
       "    <tr>\n",
       "      <th>2</th>\n",
       "      <td>A195EZSQDW3E21</td>\n",
       "      <td>1384719342</td>\n",
       "      <td>Rick Bennette \"Rick Bennette\"</td>\n",
       "      <td>[1, 1]</td>\n",
       "      <td>The primary job of this device is to block the...</td>\n",
       "      <td>5</td>\n",
       "      <td>It Does The Job Well</td>\n",
       "      <td>1377648000</td>\n",
       "      <td>08 28, 2013</td>\n",
       "    </tr>\n",
       "    <tr>\n",
       "      <th>3</th>\n",
       "      <td>A2C00NNG1ZQQG2</td>\n",
       "      <td>1384719342</td>\n",
       "      <td>RustyBill \"Sunday Rocker\"</td>\n",
       "      <td>[0, 0]</td>\n",
       "      <td>Nice windscreen protects my MXL mic and preven...</td>\n",
       "      <td>5</td>\n",
       "      <td>GOOD WINDSCREEN FOR THE MONEY</td>\n",
       "      <td>1392336000</td>\n",
       "      <td>02 14, 2014</td>\n",
       "    </tr>\n",
       "    <tr>\n",
       "      <th>4</th>\n",
       "      <td>A94QU4C90B1AX</td>\n",
       "      <td>1384719342</td>\n",
       "      <td>SEAN MASLANKA</td>\n",
       "      <td>[0, 0]</td>\n",
       "      <td>This pop filter is great. It looks and perform...</td>\n",
       "      <td>5</td>\n",
       "      <td>No more pops when I record my vocals.</td>\n",
       "      <td>1392940800</td>\n",
       "      <td>02 21, 2014</td>\n",
       "    </tr>\n",
       "    <tr>\n",
       "      <th>...</th>\n",
       "      <td>...</td>\n",
       "      <td>...</td>\n",
       "      <td>...</td>\n",
       "      <td>...</td>\n",
       "      <td>...</td>\n",
       "      <td>...</td>\n",
       "      <td>...</td>\n",
       "      <td>...</td>\n",
       "      <td>...</td>\n",
       "    </tr>\n",
       "    <tr>\n",
       "      <th>10256</th>\n",
       "      <td>A14B2YH83ZXMPP</td>\n",
       "      <td>B00JBIVXGC</td>\n",
       "      <td>Lonnie M. Adams</td>\n",
       "      <td>[0, 0]</td>\n",
       "      <td>Great, just as expected.  Thank to all.</td>\n",
       "      <td>5</td>\n",
       "      <td>Five Stars</td>\n",
       "      <td>1405814400</td>\n",
       "      <td>07 20, 2014</td>\n",
       "    </tr>\n",
       "    <tr>\n",
       "      <th>10257</th>\n",
       "      <td>A1RPTVW5VEOSI</td>\n",
       "      <td>B00JBIVXGC</td>\n",
       "      <td>Michael J. Edelman</td>\n",
       "      <td>[0, 0]</td>\n",
       "      <td>I've been thinking about trying the Nanoweb st...</td>\n",
       "      <td>5</td>\n",
       "      <td>Long life, and for some players, a good econom...</td>\n",
       "      <td>1404259200</td>\n",
       "      <td>07 2, 2014</td>\n",
       "    </tr>\n",
       "    <tr>\n",
       "      <th>10258</th>\n",
       "      <td>AWCJ12KBO5VII</td>\n",
       "      <td>B00JBIVXGC</td>\n",
       "      <td>Michael L. Knapp</td>\n",
       "      <td>[0, 0]</td>\n",
       "      <td>I have tried coated strings in the past ( incl...</td>\n",
       "      <td>4</td>\n",
       "      <td>Good for coated.</td>\n",
       "      <td>1405987200</td>\n",
       "      <td>07 22, 2014</td>\n",
       "    </tr>\n",
       "    <tr>\n",
       "      <th>10259</th>\n",
       "      <td>A2Z7S8B5U4PAKJ</td>\n",
       "      <td>B00JBIVXGC</td>\n",
       "      <td>Rick Langdon \"Scriptor\"</td>\n",
       "      <td>[0, 0]</td>\n",
       "      <td>Well, MADE by Elixir and DEVELOPED with Taylor...</td>\n",
       "      <td>4</td>\n",
       "      <td>Taylor Made</td>\n",
       "      <td>1404172800</td>\n",
       "      <td>07 1, 2014</td>\n",
       "    </tr>\n",
       "    <tr>\n",
       "      <th>10260</th>\n",
       "      <td>A2WA8TDCTGUADI</td>\n",
       "      <td>B00JBIVXGC</td>\n",
       "      <td>TheTerrorBeyond</td>\n",
       "      <td>[0, 0]</td>\n",
       "      <td>These strings are really quite good, but I wou...</td>\n",
       "      <td>4</td>\n",
       "      <td>These strings are really quite good, but I wou...</td>\n",
       "      <td>1405468800</td>\n",
       "      <td>07 16, 2014</td>\n",
       "    </tr>\n",
       "  </tbody>\n",
       "</table>\n",
       "<p>10261 rows × 9 columns</p>\n",
       "</div>"
      ],
      "text/plain": [
       "           reviewerID        asin  \\\n",
       "0      A2IBPI20UZIR0U  1384719342   \n",
       "1      A14VAT5EAX3D9S  1384719342   \n",
       "2      A195EZSQDW3E21  1384719342   \n",
       "3      A2C00NNG1ZQQG2  1384719342   \n",
       "4       A94QU4C90B1AX  1384719342   \n",
       "...               ...         ...   \n",
       "10256  A14B2YH83ZXMPP  B00JBIVXGC   \n",
       "10257   A1RPTVW5VEOSI  B00JBIVXGC   \n",
       "10258   AWCJ12KBO5VII  B00JBIVXGC   \n",
       "10259  A2Z7S8B5U4PAKJ  B00JBIVXGC   \n",
       "10260  A2WA8TDCTGUADI  B00JBIVXGC   \n",
       "\n",
       "                                           reviewerName   helpful  \\\n",
       "0      cassandra tu \"Yeah, well, that's just like, u...    [0, 0]   \n",
       "1                                                  Jake  [13, 14]   \n",
       "2                         Rick Bennette \"Rick Bennette\"    [1, 1]   \n",
       "3                             RustyBill \"Sunday Rocker\"    [0, 0]   \n",
       "4                                         SEAN MASLANKA    [0, 0]   \n",
       "...                                                 ...       ...   \n",
       "10256                                   Lonnie M. Adams    [0, 0]   \n",
       "10257                                Michael J. Edelman    [0, 0]   \n",
       "10258                                  Michael L. Knapp    [0, 0]   \n",
       "10259                           Rick Langdon \"Scriptor\"    [0, 0]   \n",
       "10260                                   TheTerrorBeyond    [0, 0]   \n",
       "\n",
       "                                              reviewText  overall  \\\n",
       "0      Not much to write about here, but it does exac...        5   \n",
       "1      The product does exactly as it should and is q...        5   \n",
       "2      The primary job of this device is to block the...        5   \n",
       "3      Nice windscreen protects my MXL mic and preven...        5   \n",
       "4      This pop filter is great. It looks and perform...        5   \n",
       "...                                                  ...      ...   \n",
       "10256            Great, just as expected.  Thank to all.        5   \n",
       "10257  I've been thinking about trying the Nanoweb st...        5   \n",
       "10258  I have tried coated strings in the past ( incl...        4   \n",
       "10259  Well, MADE by Elixir and DEVELOPED with Taylor...        4   \n",
       "10260  These strings are really quite good, but I wou...        4   \n",
       "\n",
       "                                                 summary  unixReviewTime  \\\n",
       "0                                                   good      1393545600   \n",
       "1                                                   Jake      1363392000   \n",
       "2                                   It Does The Job Well      1377648000   \n",
       "3                          GOOD WINDSCREEN FOR THE MONEY      1392336000   \n",
       "4                  No more pops when I record my vocals.      1392940800   \n",
       "...                                                  ...             ...   \n",
       "10256                                         Five Stars      1405814400   \n",
       "10257  Long life, and for some players, a good econom...      1404259200   \n",
       "10258                                   Good for coated.      1405987200   \n",
       "10259                                        Taylor Made      1404172800   \n",
       "10260  These strings are really quite good, but I wou...      1405468800   \n",
       "\n",
       "        reviewTime  \n",
       "0      02 28, 2014  \n",
       "1      03 16, 2013  \n",
       "2      08 28, 2013  \n",
       "3      02 14, 2014  \n",
       "4      02 21, 2014  \n",
       "...            ...  \n",
       "10256  07 20, 2014  \n",
       "10257   07 2, 2014  \n",
       "10258  07 22, 2014  \n",
       "10259   07 1, 2014  \n",
       "10260  07 16, 2014  \n",
       "\n",
       "[10261 rows x 9 columns]"
      ]
     },
     "execution_count": 123,
     "metadata": {},
     "output_type": "execute_result"
    }
   ],
   "source": [
    "import json\n",
    "import pandas as pd\n",
    "df = pd.read_json(r'Musical_Instruments_5.json',lines = True)\n",
    "df"
   ]
  },
  {
   "cell_type": "markdown",
   "id": "32329a70",
   "metadata": {},
   "source": [
    "1. reviewerID - ID of the reviewer, e.g. A2SUAM1J3GNN3B\n",
    "2. asin - ID of the product, e.g. 0000013714\n",
    "3. reviewerName - name of the reviewer\n",
    "4. helpful - helpfulness rating of the review, e.g. 2/3\n",
    "5. reviewText - text of the review\n",
    "6. overall - rating of the product\n",
    "7. summary - summary of the review\n",
    "8. unixReviewTime - time of the review (unix time)\n",
    "9. reviewTime - time of the review (raw)"
   ]
  },
  {
   "cell_type": "code",
   "execution_count": 124,
   "id": "5758ac4d",
   "metadata": {},
   "outputs": [
    {
     "data": {
      "text/plain": [
       "(10261, 9)"
      ]
     },
     "execution_count": 124,
     "metadata": {},
     "output_type": "execute_result"
    }
   ],
   "source": [
    "df.shape"
   ]
  },
  {
   "cell_type": "code",
   "execution_count": 125,
   "id": "330c2338",
   "metadata": {},
   "outputs": [
    {
     "name": "stdout",
     "output_type": "stream",
     "text": [
      "<class 'pandas.core.frame.DataFrame'>\n",
      "RangeIndex: 10261 entries, 0 to 10260\n",
      "Data columns (total 9 columns):\n",
      " #   Column          Non-Null Count  Dtype \n",
      "---  ------          --------------  ----- \n",
      " 0   reviewerID      10261 non-null  object\n",
      " 1   asin            10261 non-null  object\n",
      " 2   reviewerName    10234 non-null  object\n",
      " 3   helpful         10261 non-null  object\n",
      " 4   reviewText      10261 non-null  object\n",
      " 5   overall         10261 non-null  int64 \n",
      " 6   summary         10261 non-null  object\n",
      " 7   unixReviewTime  10261 non-null  int64 \n",
      " 8   reviewTime      10261 non-null  object\n",
      "dtypes: int64(2), object(7)\n",
      "memory usage: 721.6+ KB\n"
     ]
    }
   ],
   "source": [
    "df.info()"
   ]
  },
  {
   "cell_type": "code",
   "execution_count": 126,
   "id": "7d6b839e",
   "metadata": {},
   "outputs": [
    {
     "data": {
      "text/html": [
       "<div>\n",
       "<style scoped>\n",
       "    .dataframe tbody tr th:only-of-type {\n",
       "        vertical-align: middle;\n",
       "    }\n",
       "\n",
       "    .dataframe tbody tr th {\n",
       "        vertical-align: top;\n",
       "    }\n",
       "\n",
       "    .dataframe thead th {\n",
       "        text-align: right;\n",
       "    }\n",
       "</style>\n",
       "<table border=\"1\" class=\"dataframe\">\n",
       "  <thead>\n",
       "    <tr style=\"text-align: right;\">\n",
       "      <th></th>\n",
       "      <th>overall</th>\n",
       "      <th>unixReviewTime</th>\n",
       "    </tr>\n",
       "  </thead>\n",
       "  <tbody>\n",
       "    <tr>\n",
       "      <th>count</th>\n",
       "      <td>10261.000000</td>\n",
       "      <td>1.026100e+04</td>\n",
       "    </tr>\n",
       "    <tr>\n",
       "      <th>mean</th>\n",
       "      <td>4.488744</td>\n",
       "      <td>1.360606e+09</td>\n",
       "    </tr>\n",
       "    <tr>\n",
       "      <th>std</th>\n",
       "      <td>0.894642</td>\n",
       "      <td>3.779735e+07</td>\n",
       "    </tr>\n",
       "    <tr>\n",
       "      <th>min</th>\n",
       "      <td>1.000000</td>\n",
       "      <td>1.095466e+09</td>\n",
       "    </tr>\n",
       "    <tr>\n",
       "      <th>25%</th>\n",
       "      <td>4.000000</td>\n",
       "      <td>1.343434e+09</td>\n",
       "    </tr>\n",
       "    <tr>\n",
       "      <th>50%</th>\n",
       "      <td>5.000000</td>\n",
       "      <td>1.368490e+09</td>\n",
       "    </tr>\n",
       "    <tr>\n",
       "      <th>75%</th>\n",
       "      <td>5.000000</td>\n",
       "      <td>1.388966e+09</td>\n",
       "    </tr>\n",
       "    <tr>\n",
       "      <th>max</th>\n",
       "      <td>5.000000</td>\n",
       "      <td>1.405987e+09</td>\n",
       "    </tr>\n",
       "  </tbody>\n",
       "</table>\n",
       "</div>"
      ],
      "text/plain": [
       "            overall  unixReviewTime\n",
       "count  10261.000000    1.026100e+04\n",
       "mean       4.488744    1.360606e+09\n",
       "std        0.894642    3.779735e+07\n",
       "min        1.000000    1.095466e+09\n",
       "25%        4.000000    1.343434e+09\n",
       "50%        5.000000    1.368490e+09\n",
       "75%        5.000000    1.388966e+09\n",
       "max        5.000000    1.405987e+09"
      ]
     },
     "execution_count": 126,
     "metadata": {},
     "output_type": "execute_result"
    }
   ],
   "source": [
    "df.describe()"
   ]
  },
  {
   "cell_type": "code",
   "execution_count": 127,
   "id": "86982a34",
   "metadata": {
    "scrolled": true
   },
   "outputs": [
    {
     "data": {
      "text/html": [
       "<div>\n",
       "<style scoped>\n",
       "    .dataframe tbody tr th:only-of-type {\n",
       "        vertical-align: middle;\n",
       "    }\n",
       "\n",
       "    .dataframe tbody tr th {\n",
       "        vertical-align: top;\n",
       "    }\n",
       "\n",
       "    .dataframe thead th {\n",
       "        text-align: right;\n",
       "    }\n",
       "</style>\n",
       "<table border=\"1\" class=\"dataframe\">\n",
       "  <thead>\n",
       "    <tr style=\"text-align: right;\">\n",
       "      <th></th>\n",
       "      <th>reviewerID</th>\n",
       "      <th>asin</th>\n",
       "      <th>reviewerName</th>\n",
       "      <th>helpful</th>\n",
       "      <th>reviewText</th>\n",
       "      <th>overall</th>\n",
       "      <th>summary</th>\n",
       "      <th>unixReviewTime</th>\n",
       "      <th>reviewTime</th>\n",
       "    </tr>\n",
       "  </thead>\n",
       "  <tbody>\n",
       "    <tr>\n",
       "      <th>0</th>\n",
       "      <td>A2IBPI20UZIR0U</td>\n",
       "      <td>1384719342</td>\n",
       "      <td>cassandra tu \"Yeah, well, that's just like, u...</td>\n",
       "      <td>[0, 0]</td>\n",
       "      <td>Not much to write about here, but it does exac...</td>\n",
       "      <td>5</td>\n",
       "      <td>good</td>\n",
       "      <td>1393545600</td>\n",
       "      <td>02 28, 2014</td>\n",
       "    </tr>\n",
       "    <tr>\n",
       "      <th>1</th>\n",
       "      <td>A14VAT5EAX3D9S</td>\n",
       "      <td>1384719342</td>\n",
       "      <td>Jake</td>\n",
       "      <td>[13, 14]</td>\n",
       "      <td>The product does exactly as it should and is q...</td>\n",
       "      <td>5</td>\n",
       "      <td>Jake</td>\n",
       "      <td>1363392000</td>\n",
       "      <td>03 16, 2013</td>\n",
       "    </tr>\n",
       "    <tr>\n",
       "      <th>2</th>\n",
       "      <td>A195EZSQDW3E21</td>\n",
       "      <td>1384719342</td>\n",
       "      <td>Rick Bennette \"Rick Bennette\"</td>\n",
       "      <td>[1, 1]</td>\n",
       "      <td>The primary job of this device is to block the...</td>\n",
       "      <td>5</td>\n",
       "      <td>It Does The Job Well</td>\n",
       "      <td>1377648000</td>\n",
       "      <td>08 28, 2013</td>\n",
       "    </tr>\n",
       "    <tr>\n",
       "      <th>3</th>\n",
       "      <td>A2C00NNG1ZQQG2</td>\n",
       "      <td>1384719342</td>\n",
       "      <td>RustyBill \"Sunday Rocker\"</td>\n",
       "      <td>[0, 0]</td>\n",
       "      <td>Nice windscreen protects my MXL mic and preven...</td>\n",
       "      <td>5</td>\n",
       "      <td>GOOD WINDSCREEN FOR THE MONEY</td>\n",
       "      <td>1392336000</td>\n",
       "      <td>02 14, 2014</td>\n",
       "    </tr>\n",
       "    <tr>\n",
       "      <th>4</th>\n",
       "      <td>A94QU4C90B1AX</td>\n",
       "      <td>1384719342</td>\n",
       "      <td>SEAN MASLANKA</td>\n",
       "      <td>[0, 0]</td>\n",
       "      <td>This pop filter is great. It looks and perform...</td>\n",
       "      <td>5</td>\n",
       "      <td>No more pops when I record my vocals.</td>\n",
       "      <td>1392940800</td>\n",
       "      <td>02 21, 2014</td>\n",
       "    </tr>\n",
       "  </tbody>\n",
       "</table>\n",
       "</div>"
      ],
      "text/plain": [
       "       reviewerID        asin  \\\n",
       "0  A2IBPI20UZIR0U  1384719342   \n",
       "1  A14VAT5EAX3D9S  1384719342   \n",
       "2  A195EZSQDW3E21  1384719342   \n",
       "3  A2C00NNG1ZQQG2  1384719342   \n",
       "4   A94QU4C90B1AX  1384719342   \n",
       "\n",
       "                                       reviewerName   helpful  \\\n",
       "0  cassandra tu \"Yeah, well, that's just like, u...    [0, 0]   \n",
       "1                                              Jake  [13, 14]   \n",
       "2                     Rick Bennette \"Rick Bennette\"    [1, 1]   \n",
       "3                         RustyBill \"Sunday Rocker\"    [0, 0]   \n",
       "4                                     SEAN MASLANKA    [0, 0]   \n",
       "\n",
       "                                          reviewText  overall  \\\n",
       "0  Not much to write about here, but it does exac...        5   \n",
       "1  The product does exactly as it should and is q...        5   \n",
       "2  The primary job of this device is to block the...        5   \n",
       "3  Nice windscreen protects my MXL mic and preven...        5   \n",
       "4  This pop filter is great. It looks and perform...        5   \n",
       "\n",
       "                                 summary  unixReviewTime   reviewTime  \n",
       "0                                   good      1393545600  02 28, 2014  \n",
       "1                                   Jake      1363392000  03 16, 2013  \n",
       "2                   It Does The Job Well      1377648000  08 28, 2013  \n",
       "3          GOOD WINDSCREEN FOR THE MONEY      1392336000  02 14, 2014  \n",
       "4  No more pops when I record my vocals.      1392940800  02 21, 2014  "
      ]
     },
     "execution_count": 127,
     "metadata": {},
     "output_type": "execute_result"
    }
   ],
   "source": [
    "df.head()"
   ]
  },
  {
   "cell_type": "code",
   "execution_count": 128,
   "id": "9854d475",
   "metadata": {},
   "outputs": [
    {
     "data": {
      "text/plain": [
       "Index(['reviewerID', 'asin', 'reviewerName', 'helpful', 'reviewText',\n",
       "       'overall', 'summary', 'unixReviewTime', 'reviewTime'],\n",
       "      dtype='object')"
      ]
     },
     "execution_count": 128,
     "metadata": {},
     "output_type": "execute_result"
    }
   ],
   "source": [
    "df.columns"
   ]
  },
  {
   "cell_type": "code",
   "execution_count": 129,
   "id": "a757d611",
   "metadata": {},
   "outputs": [
    {
     "data": {
      "text/plain": [
       "reviewerID        10261\n",
       "asin              10261\n",
       "reviewerName      10234\n",
       "helpful           10261\n",
       "reviewText        10261\n",
       "overall           10261\n",
       "summary           10261\n",
       "unixReviewTime    10261\n",
       "reviewTime        10261\n",
       "dtype: int64"
      ]
     },
     "execution_count": 129,
     "metadata": {},
     "output_type": "execute_result"
    }
   ],
   "source": [
    "df.count()"
   ]
  },
  {
   "cell_type": "code",
   "execution_count": 130,
   "id": "01303836",
   "metadata": {},
   "outputs": [
    {
     "data": {
      "text/plain": [
       "5    6938\n",
       "4    2084\n",
       "3     772\n",
       "2     250\n",
       "1     217\n",
       "Name: overall, dtype: int64"
      ]
     },
     "execution_count": 130,
     "metadata": {},
     "output_type": "execute_result"
    }
   ],
   "source": [
    "df.overall.value_counts()"
   ]
  },
  {
   "cell_type": "code",
   "execution_count": 131,
   "id": "b93b68bf",
   "metadata": {},
   "outputs": [
    {
     "data": {
      "text/plain": [
       "ADH0O8UVJOT10     42\n",
       "A15TYOEWBQYF0X    38\n",
       "A1L7M2JXN4EZCR    38\n",
       "A2EZWZ8MBEDOLN    36\n",
       "A2NYK9KWFMJV4Y    34\n",
       "                  ..\n",
       "AU9RL6MBM25YY      5\n",
       "A31997Q9ABEIE9     5\n",
       "AASCUHX7YUC6M      5\n",
       "AWQQ1QHCECDJ3      5\n",
       "A3A7Y3TSPPZU9T     5\n",
       "Name: reviewerID, Length: 1429, dtype: int64"
      ]
     },
     "execution_count": 131,
     "metadata": {},
     "output_type": "execute_result"
    }
   ],
   "source": [
    "df.reviewerID.value_counts()"
   ]
  },
  {
   "cell_type": "code",
   "execution_count": 132,
   "id": "e81785b9",
   "metadata": {},
   "outputs": [
    {
     "data": {
      "text/plain": [
       "B003VWJ2K8    163\n",
       "B0002E1G5C    143\n",
       "B0002F7K7Y    116\n",
       "B003VWKPHC    114\n",
       "B0002H0A3S     93\n",
       "             ... \n",
       "B004GYM7IE      5\n",
       "B000LPUV8K      5\n",
       "B000LAT0AK      5\n",
       "B004HJ9COU      5\n",
       "1384719342      5\n",
       "Name: asin, Length: 900, dtype: int64"
      ]
     },
     "execution_count": 132,
     "metadata": {},
     "output_type": "execute_result"
    }
   ],
   "source": [
    "df.asin.value_counts()"
   ]
  },
  {
   "cell_type": "code",
   "execution_count": 133,
   "id": "d0e28fbe",
   "metadata": {},
   "outputs": [
    {
     "data": {
      "text/plain": [
       "<seaborn.axisgrid.PairGrid at 0x242a6edb190>"
      ]
     },
     "execution_count": 133,
     "metadata": {},
     "output_type": "execute_result"
    },
    {
     "data": {
      "image/png": "[encoded data removed]",
      "text/plain": [
       "<Figure size 720x720 with 20 Axes>"
      ]
     },
     "metadata": {
      "needs_background": "light"
     },
     "output_type": "display_data"
    }
   ],
   "source": [
    "import seaborn as sns\n",
    "import matplotlib.pyplot as plt\n",
    "\n",
    "### Create syntetic lenght field\n",
    "df['reviewTextLenght'] = df['reviewText'].apply(len)\n",
    "\n",
    "### Create syntetic helpful rating field\n",
    "def create_helpful_rating(value):\n",
    "    if(value[1] > 0):\n",
    "        return value[0]/value[1]\n",
    "    return 0\n",
    "\n",
    "df['helpful_rating'] = df['helpful'].apply(create_helpful_rating)\n",
    "\n",
    "\n",
    "sns.pairplot(df)"
   ]
  },
  {
   "cell_type": "code",
   "execution_count": 134,
   "id": "d61e9587",
   "metadata": {},
   "outputs": [
    {
     "name": "stdout",
     "output_type": "stream",
     "text": [
      "Rating   Distribution\n",
      "5      6938\n",
      "4      2084\n",
      "3      772\n",
      "2      250\n",
      "1      217\n"
     ]
    }
   ],
   "source": [
    "ratings= df['overall'].value_counts().keys().tolist()\n",
    "values = df['overall'].value_counts().tolist()\n",
    "print(f'Rating   Distribution')\n",
    "for i in range(len(ratings)):\n",
    "    print(f'{ratings[i]}      {values[i]}')"
   ]
  },
  {
   "cell_type": "code",
   "execution_count": 135,
   "id": "dc61cdef",
   "metadata": {},
   "outputs": [
    {
     "data": {
      "text/plain": [
       "117     54\n",
       "147     53\n",
       "111     53\n",
       "113     52\n",
       "128     51\n",
       "        ..\n",
       "2122     1\n",
       "2178     1\n",
       "1639     1\n",
       "1117     1\n",
       "1644     1\n",
       "Name: reviewTextLenght, Length: 1727, dtype: int64"
      ]
     },
     "execution_count": 135,
     "metadata": {},
     "output_type": "execute_result"
    }
   ],
   "source": [
    "df['reviewTextLenght'] = df['reviewText'].apply(len)\n",
    "#df.reviewTextLenght.value_counts(bins=10)\n",
    "#df.reviewTextLenght.value_counts(normalize=True)\n",
    "df.reviewTextLenght.value_counts()"
   ]
  },
  {
   "cell_type": "markdown",
   "id": "2624ea5e",
   "metadata": {},
   "source": [
    "**Most review comments have relativily short lenght. There are a considerable number of very long comments (10% > 1000) that need further analysis**"
   ]
  },
  {
   "cell_type": "code",
   "execution_count": 136,
   "id": "212aac6d",
   "metadata": {},
   "outputs": [
    {
     "data": {
      "text/html": [
       "<div>\n",
       "<style scoped>\n",
       "    .dataframe tbody tr th:only-of-type {\n",
       "        vertical-align: middle;\n",
       "    }\n",
       "\n",
       "    .dataframe tbody tr th {\n",
       "        vertical-align: top;\n",
       "    }\n",
       "\n",
       "    .dataframe thead th {\n",
       "        text-align: right;\n",
       "    }\n",
       "</style>\n",
       "<table border=\"1\" class=\"dataframe\">\n",
       "  <thead>\n",
       "    <tr style=\"text-align: right;\">\n",
       "      <th></th>\n",
       "      <th>reviewerID</th>\n",
       "      <th>asin</th>\n",
       "      <th>reviewerName</th>\n",
       "      <th>helpful</th>\n",
       "      <th>reviewText</th>\n",
       "      <th>overall</th>\n",
       "      <th>summary</th>\n",
       "      <th>unixReviewTime</th>\n",
       "      <th>reviewTime</th>\n",
       "      <th>reviewTextLenght</th>\n",
       "      <th>helpful_rating</th>\n",
       "    </tr>\n",
       "  </thead>\n",
       "  <tbody>\n",
       "    <tr>\n",
       "      <th>10</th>\n",
       "      <td>A2NYK9KWFMJV4Y</td>\n",
       "      <td>B00004Y2UT</td>\n",
       "      <td>Mike Tarrani \"Jazz Drummer\"</td>\n",
       "      <td>[6, 6]</td>\n",
       "      <td>Monster makes a wide array of cables, includin...</td>\n",
       "      <td>5</td>\n",
       "      <td>One of the best instrument cables within the b...</td>\n",
       "      <td>1334793600</td>\n",
       "      <td>04 19, 2012</td>\n",
       "      <td>1076</td>\n",
       "      <td>1.0</td>\n",
       "    </tr>\n",
       "    <tr>\n",
       "      <th>18</th>\n",
       "      <td>A2EZWZ8MBEDOLN</td>\n",
       "      <td>B000068NSX</td>\n",
       "      <td>Charlo</td>\n",
       "      <td>[3, 3]</td>\n",
       "      <td>I've been using these cables for more than 4 m...</td>\n",
       "      <td>5</td>\n",
       "      <td>So far so good.  Will revisit at the 6 month m...</td>\n",
       "      <td>1363564800</td>\n",
       "      <td>03 18, 2013</td>\n",
       "      <td>1557</td>\n",
       "      <td>1.0</td>\n",
       "    </tr>\n",
       "    <tr>\n",
       "      <th>101</th>\n",
       "      <td>A2NYK9KWFMJV4Y</td>\n",
       "      <td>B000068NZG</td>\n",
       "      <td>Mike Tarrani \"Jazz Drummer\"</td>\n",
       "      <td>[0, 0]</td>\n",
       "      <td>First, the reasons why I awarded this five sta...</td>\n",
       "      <td>5</td>\n",
       "      <td>Solved a big issue for me</td>\n",
       "      <td>1372118400</td>\n",
       "      <td>06 25, 2013</td>\n",
       "      <td>1084</td>\n",
       "      <td>0.0</td>\n",
       "    </tr>\n",
       "    <tr>\n",
       "      <th>172</th>\n",
       "      <td>A6FIAB28IS79</td>\n",
       "      <td>B00009W40D</td>\n",
       "      <td>Samuel Chell</td>\n",
       "      <td>[4, 4]</td>\n",
       "      <td>As a freelancer, I occasionally work with a ba...</td>\n",
       "      <td>4</td>\n",
       "      <td>Good enough for professional use</td>\n",
       "      <td>1244332800</td>\n",
       "      <td>06 7, 2009</td>\n",
       "      <td>1060</td>\n",
       "      <td>1.0</td>\n",
       "    </tr>\n",
       "    <tr>\n",
       "      <th>184</th>\n",
       "      <td>A2N4QZ92NBKJZZ</td>\n",
       "      <td>B0000AQRSR</td>\n",
       "      <td>Phaeton</td>\n",
       "      <td>[0, 0]</td>\n",
       "      <td>4 stars instead of 5 only because this thing w...</td>\n",
       "      <td>4</td>\n",
       "      <td>Buy This!</td>\n",
       "      <td>1386374400</td>\n",
       "      <td>12 7, 2013</td>\n",
       "      <td>1173</td>\n",
       "      <td>0.0</td>\n",
       "    </tr>\n",
       "    <tr>\n",
       "      <th>...</th>\n",
       "      <td>...</td>\n",
       "      <td>...</td>\n",
       "      <td>...</td>\n",
       "      <td>...</td>\n",
       "      <td>...</td>\n",
       "      <td>...</td>\n",
       "      <td>...</td>\n",
       "      <td>...</td>\n",
       "      <td>...</td>\n",
       "      <td>...</td>\n",
       "      <td>...</td>\n",
       "    </tr>\n",
       "    <tr>\n",
       "      <th>10246</th>\n",
       "      <td>A29B4PAIOL7HYG</td>\n",
       "      <td>B00J4TBMVO</td>\n",
       "      <td>N. Caruso \"gibsonjunkie\"</td>\n",
       "      <td>[0, 0]</td>\n",
       "      <td>I had the opportunity to try a set of Elixir N...</td>\n",
       "      <td>5</td>\n",
       "      <td>Great sounding and playing strings!</td>\n",
       "      <td>1405728000</td>\n",
       "      <td>07 19, 2014</td>\n",
       "      <td>2275</td>\n",
       "      <td>0.0</td>\n",
       "    </tr>\n",
       "    <tr>\n",
       "      <th>10250</th>\n",
       "      <td>A30J7WQV0ZNRXG</td>\n",
       "      <td>B00JBIVXGC</td>\n",
       "      <td>D. Reinstein \"marindavid\"</td>\n",
       "      <td>[0, 0]</td>\n",
       "      <td>I had used Elixer strings for several years on...</td>\n",
       "      <td>5</td>\n",
       "      <td>Great On A Gibson, Too!</td>\n",
       "      <td>1404950400</td>\n",
       "      <td>07 10, 2014</td>\n",
       "      <td>1003</td>\n",
       "      <td>0.0</td>\n",
       "    </tr>\n",
       "    <tr>\n",
       "      <th>10255</th>\n",
       "      <td>A1TSKKBNV38E8Y</td>\n",
       "      <td>B00JBIVXGC</td>\n",
       "      <td>K. Harriger \"K.R. Harriger\"</td>\n",
       "      <td>[0, 0]</td>\n",
       "      <td>I have lots of friends who play these strings....</td>\n",
       "      <td>3</td>\n",
       "      <td>Hmmm.... I like them, but with a lot of reserv...</td>\n",
       "      <td>1403654400</td>\n",
       "      <td>06 25, 2014</td>\n",
       "      <td>2346</td>\n",
       "      <td>0.0</td>\n",
       "    </tr>\n",
       "    <tr>\n",
       "      <th>10257</th>\n",
       "      <td>A1RPTVW5VEOSI</td>\n",
       "      <td>B00JBIVXGC</td>\n",
       "      <td>Michael J. Edelman</td>\n",
       "      <td>[0, 0]</td>\n",
       "      <td>I've been thinking about trying the Nanoweb st...</td>\n",
       "      <td>5</td>\n",
       "      <td>Long life, and for some players, a good econom...</td>\n",
       "      <td>1404259200</td>\n",
       "      <td>07 2, 2014</td>\n",
       "      <td>3027</td>\n",
       "      <td>0.0</td>\n",
       "    </tr>\n",
       "    <tr>\n",
       "      <th>10259</th>\n",
       "      <td>A2Z7S8B5U4PAKJ</td>\n",
       "      <td>B00JBIVXGC</td>\n",
       "      <td>Rick Langdon \"Scriptor\"</td>\n",
       "      <td>[0, 0]</td>\n",
       "      <td>Well, MADE by Elixir and DEVELOPED with Taylor...</td>\n",
       "      <td>4</td>\n",
       "      <td>Taylor Made</td>\n",
       "      <td>1404172800</td>\n",
       "      <td>07 1, 2014</td>\n",
       "      <td>1644</td>\n",
       "      <td>0.0</td>\n",
       "    </tr>\n",
       "  </tbody>\n",
       "</table>\n",
       "<p>1125 rows × 11 columns</p>\n",
       "</div>"
      ],
      "text/plain": [
       "           reviewerID        asin                 reviewerName helpful  \\\n",
       "10     A2NYK9KWFMJV4Y  B00004Y2UT  Mike Tarrani \"Jazz Drummer\"  [6, 6]   \n",
       "18     A2EZWZ8MBEDOLN  B000068NSX                       Charlo  [3, 3]   \n",
       "101    A2NYK9KWFMJV4Y  B000068NZG  Mike Tarrani \"Jazz Drummer\"  [0, 0]   \n",
       "172      A6FIAB28IS79  B00009W40D                 Samuel Chell  [4, 4]   \n",
       "184    A2N4QZ92NBKJZZ  B0000AQRSR                      Phaeton  [0, 0]   \n",
       "...               ...         ...                          ...     ...   \n",
       "10246  A29B4PAIOL7HYG  B00J4TBMVO     N. Caruso \"gibsonjunkie\"  [0, 0]   \n",
       "10250  A30J7WQV0ZNRXG  B00JBIVXGC    D. Reinstein \"marindavid\"  [0, 0]   \n",
       "10255  A1TSKKBNV38E8Y  B00JBIVXGC  K. Harriger \"K.R. Harriger\"  [0, 0]   \n",
       "10257   A1RPTVW5VEOSI  B00JBIVXGC           Michael J. Edelman  [0, 0]   \n",
       "10259  A2Z7S8B5U4PAKJ  B00JBIVXGC      Rick Langdon \"Scriptor\"  [0, 0]   \n",
       "\n",
       "                                              reviewText  overall  \\\n",
       "10     Monster makes a wide array of cables, includin...        5   \n",
       "18     I've been using these cables for more than 4 m...        5   \n",
       "101    First, the reasons why I awarded this five sta...        5   \n",
       "172    As a freelancer, I occasionally work with a ba...        4   \n",
       "184    4 stars instead of 5 only because this thing w...        4   \n",
       "...                                                  ...      ...   \n",
       "10246  I had the opportunity to try a set of Elixir N...        5   \n",
       "10250  I had used Elixer strings for several years on...        5   \n",
       "10255  I have lots of friends who play these strings....        3   \n",
       "10257  I've been thinking about trying the Nanoweb st...        5   \n",
       "10259  Well, MADE by Elixir and DEVELOPED with Taylor...        4   \n",
       "\n",
       "                                                 summary  unixReviewTime  \\\n",
       "10     One of the best instrument cables within the b...      1334793600   \n",
       "18     So far so good.  Will revisit at the 6 month m...      1363564800   \n",
       "101                            Solved a big issue for me      1372118400   \n",
       "172                     Good enough for professional use      1244332800   \n",
       "184                                            Buy This!      1386374400   \n",
       "...                                                  ...             ...   \n",
       "10246                Great sounding and playing strings!      1405728000   \n",
       "10250                            Great On A Gibson, Too!      1404950400   \n",
       "10255  Hmmm.... I like them, but with a lot of reserv...      1403654400   \n",
       "10257  Long life, and for some players, a good econom...      1404259200   \n",
       "10259                                        Taylor Made      1404172800   \n",
       "\n",
       "        reviewTime  reviewTextLenght  helpful_rating  \n",
       "10     04 19, 2012              1076             1.0  \n",
       "18     03 18, 2013              1557             1.0  \n",
       "101    06 25, 2013              1084             0.0  \n",
       "172     06 7, 2009              1060             1.0  \n",
       "184     12 7, 2013              1173             0.0  \n",
       "...            ...               ...             ...  \n",
       "10246  07 19, 2014              2275             0.0  \n",
       "10250  07 10, 2014              1003             0.0  \n",
       "10255  06 25, 2014              2346             0.0  \n",
       "10257   07 2, 2014              3027             0.0  \n",
       "10259   07 1, 2014              1644             0.0  \n",
       "\n",
       "[1125 rows x 11 columns]"
      ]
     },
     "execution_count": 136,
     "metadata": {},
     "output_type": "execute_result"
    }
   ],
   "source": [
    "df[df['reviewTextLenght'] > 1000]"
   ]
  },
  {
   "cell_type": "code",
   "execution_count": 137,
   "id": "0307fc66",
   "metadata": {},
   "outputs": [
    {
     "data": {
      "text/plain": [
       "<AxesSubplot:>"
      ]
     },
     "execution_count": 137,
     "metadata": {},
     "output_type": "execute_result"
    },
    {
     "data": {
      "image/png": "[encoded data removed]",
      "text/plain": [
       "<Figure size 432x288 with 1 Axes>"
      ]
     },
     "metadata": {
      "needs_background": "light"
     },
     "output_type": "display_data"
    }
   ],
   "source": [
    "df.reviewTextLenght.hist(bins = 100)"
   ]
  },
  {
   "cell_type": "code",
   "execution_count": 138,
   "id": "8f29fd24",
   "metadata": {},
   "outputs": [
    {
     "data": {
      "text/plain": [
       "count    10261.000000\n",
       "mean       485.929052\n",
       "std        613.436113\n",
       "min          0.000000\n",
       "25%        162.000000\n",
       "50%        284.000000\n",
       "75%        552.000000\n",
       "max      11310.000000\n",
       "Name: reviewTextLenght, dtype: float64"
      ]
     },
     "execution_count": 138,
     "metadata": {},
     "output_type": "execute_result"
    }
   ],
   "source": [
    "df.reviewTextLenght.describe()"
   ]
  },
  {
   "cell_type": "code",
   "execution_count": 139,
   "id": "cff54a55",
   "metadata": {},
   "outputs": [
    {
     "data": {
      "text/plain": [
       "\"Monster makes a wide array of cables, including some that are very high end. I initially purchased a pair ofMonster Rock Instrument Cable - 21 Feet - Angled to Straight 1/4-Inch plugto use with my keyboards, but when it came time to purchase cables for my bass and guitar I thought I'd pinch a few pennies.  I am so glad I did.I compared this cable model to the more expensive models I previously purchased and, aside from looks, could not detect any difference in sound. I Swapped back and forth between my guitars and keyboards, ensuring that each model was used on each instrument - still no difference.What the more expensive model has going for it is looks. I am not sure it (the higher priced model) is even more sturdy because the molded stress relief ends on this model seem to make it more reliable than its pricier sibling.Bottom line: carefully compare both cables using your own instrument and amp - if possible - before making a purchase decision. You may find, as I did, that higher price does not necessarily equal higher value, even from the same manufacturer.\""
      ]
     },
     "execution_count": 139,
     "metadata": {},
     "output_type": "execute_result"
    }
   ],
   "source": [
    "sample = df.iloc[10]\n",
    "sample['reviewText']"
   ]
  },
  {
   "cell_type": "code",
   "execution_count": 140,
   "id": "2c274832",
   "metadata": {
    "scrolled": false
   },
   "outputs": [
    {
     "data": {
      "text/plain": [
       "'I\\'ve been thinking about trying the Nanoweb strings for a while, but I was a bit put off by the high price (they cost about twice as much as the uncharted strings I\\'ve been buying)  and the comments of some reviewers that the tone of coated strings is noticeably duller. I was intrigued by the promise of long life, though; I have a Taylor Big Baby that I bought used, and which came with a set of Nanowebs that had probably been on it for a year- and they didn\\'t sound at all like old strings. This review set gave me a chance to finally see for myself how they sound when new.I\\'d just changed the strings on my 1970s Gibson Gospel a week ago, so I decided that would be my reference. The Nanowebs went on my 1970s Guild D-35. Both are well broken in, solid spruce top guitars. The Gospel is a bit brighter sounding, but I\\'m pretty familiar with the sound of both guitars. If they D-35 sounded dull, I\\'d notice.As I was unwrapping the Nanowebs I noticed that while they were labeled \"Light\" gauge, they had a 0.013\" E string- something you\\'d be more likely to find on a set of medium gauge strings. The B was a .017, compared to the .016 of the D\\'Addarios I usually play. The rest of the strings were there usual light gauges. Turns out that these are \"HD Light\" gauge, designed to have a slightly more tension and better articulation at the high end. The difference shouldn\\'t be enough to require any truss rod adjustment so I went ahead and installed them on the D-35.So how do they sound? The unwound E and B don\\'t sound different from any other plain steel string, of course. The E does feel a tiny bit stiffer, when I switch between the D-35 and the Gospel. Sound-wise, I\\'d say they sound like a good set that have been on a guitar for a day. I wouldn\\'t call them dull by any stretch of the imagination. If I didn\\'t know that they were coated strings I certainly wouldn\\'t be able to tell from playing them. So they\\'re good sounding strings, and they last a long time. That leaves the question of cost- are they worth twice the price of uncoated strings?Here\\'s the way I see it: If you\\'re a heavy strummer, or playing gigs every night, maybe not. You\\'re probably breaking strings or losing them to metal fatigue long before they\\'d go dull from corrosion or contamination. But if you\\'re a finger picker, or a light strummer, a coated string will probably save you a lot of money in the long run. And if you\\'re a hobby player who keeps a guitar around the house, and picks it up once in a while to entertain friends or family, coated strings are probably an excellent choice. For myself, I\\'m going to leave these on the D-35 for as long as they still sound good. I\\'ll update this review when I find out just how long they do last.Follow up: After playing these for a few days, I actually went out and bought a set in the same gauge for my Loar LH-350, an arch top guitar with a carved top that gets played more than any of my other guitars. They sound great on the Loar, and now I have two guitars to do a long term test on.'"
      ]
     },
     "execution_count": 140,
     "metadata": {},
     "output_type": "execute_result"
    }
   ],
   "source": [
    "another_sample = df.iloc[10257]\n",
    "another_sample['reviewText']"
   ]
  },
  {
   "cell_type": "code",
   "execution_count": 141,
   "id": "40d05d8d",
   "metadata": {},
   "outputs": [
    {
     "data": {
      "text/html": [
       "<div>\n",
       "<style scoped>\n",
       "    .dataframe tbody tr th:only-of-type {\n",
       "        vertical-align: middle;\n",
       "    }\n",
       "\n",
       "    .dataframe tbody tr th {\n",
       "        vertical-align: top;\n",
       "    }\n",
       "\n",
       "    .dataframe thead th {\n",
       "        text-align: right;\n",
       "    }\n",
       "</style>\n",
       "<table border=\"1\" class=\"dataframe\">\n",
       "  <thead>\n",
       "    <tr style=\"text-align: right;\">\n",
       "      <th></th>\n",
       "      <th>reviewerID</th>\n",
       "      <th>asin</th>\n",
       "      <th>reviewerName</th>\n",
       "      <th>helpful</th>\n",
       "      <th>reviewText</th>\n",
       "      <th>overall</th>\n",
       "      <th>summary</th>\n",
       "      <th>unixReviewTime</th>\n",
       "      <th>reviewTime</th>\n",
       "      <th>reviewTextLenght</th>\n",
       "      <th>helpful_rating</th>\n",
       "    </tr>\n",
       "  </thead>\n",
       "  <tbody>\n",
       "    <tr>\n",
       "      <th>6576</th>\n",
       "      <td>A20JJ8634DG3FS</td>\n",
       "      <td>B001I8ITQA</td>\n",
       "      <td>Johnny Guitar \"J.F. Guitar\"</td>\n",
       "      <td>[10, 10]</td>\n",
       "      <td>COMPARISONS: I have compared, side by side, th...</td>\n",
       "      <td>5</td>\n",
       "      <td>a GREAT choice for a univibe pedal</td>\n",
       "      <td>1377043200</td>\n",
       "      <td>08 21, 2013</td>\n",
       "      <td>11310</td>\n",
       "      <td>1.0</td>\n",
       "    </tr>\n",
       "  </tbody>\n",
       "</table>\n",
       "</div>"
      ],
      "text/plain": [
       "          reviewerID        asin                 reviewerName   helpful  \\\n",
       "6576  A20JJ8634DG3FS  B001I8ITQA  Johnny Guitar \"J.F. Guitar\"  [10, 10]   \n",
       "\n",
       "                                             reviewText  overall  \\\n",
       "6576  COMPARISONS: I have compared, side by side, th...        5   \n",
       "\n",
       "                                 summary  unixReviewTime   reviewTime  \\\n",
       "6576  a GREAT choice for a univibe pedal      1377043200  08 21, 2013   \n",
       "\n",
       "      reviewTextLenght  helpful_rating  \n",
       "6576             11310             1.0  "
      ]
     },
     "execution_count": 141,
     "metadata": {},
     "output_type": "execute_result"
    }
   ],
   "source": [
    "df[df['reviewTextLenght']>11000]"
   ]
  },
  {
   "cell_type": "code",
   "execution_count": 142,
   "id": "f099c9bf",
   "metadata": {},
   "outputs": [
    {
     "data": {
      "text/plain": [
       "'COMPARISONS: I have compared, side by side, the following pedals:Fulltone mini deja vibe ($200), Dunlop Univibe (discontinued stainless steel model)($220), Dunlop Roto-vibe ($180), Voodoo Labs Micro Vibe ($150), BBE Soul Bender ($129) as well as comparing to some \"different beasts\" in the modulation family - an MXR phase 90, MXR EVH flanger, Boss chorus, Behringer Vibrato, and Behringer Time Machine.SUMMARY - just the factsA great pedal and my favorite uni-vibe of all. Doesn\\'t take a lot of space up, standard power supply, good visibility on control knob settings. Does not add or subtract frequencies to the signal or add noise. This is the only pedal in the univibe group I can say that about and it\\'s why it\\'s almost certainly going to be the one I keep. Might have slightly less ability to produce as thick of a univibe effect as some of the others -- still need to play with it a little more. Overall I LOVE this pedal at under 60 bucks. Only downsides I see are the LED does not flash the speed rate, and the speed control is top left which makes it hard to \"toe tweak\" with my right foot. Quality seems ok, but time will tell on durability.PROS- Smallish form factor, although slightly larger than a \"boss\" pedal, doesn\\'t take much more room than a standard pedal.- Standard power supply (9v Center negative), and jack on top back for easy access - not in the way for patch cables on sides.- Switchable between chorus(univibe) and vibrato.- Controls spaced well for handling and use knobs with high visibility marking - easy to see.- Best PRO is that it does not boost or cut volume and does not boost or cut bass, mids, or lows. It just applies the uni-vibe type effect as dialed in and retains the character of the guitar tone. This is the only pedal I tested that I can say that about -- and most of the others cost 2-4 times what this one cost.- LED is red, visible and NOT a weird bright laser to my retina- The PRICE at about 60 bucks - is a great deal- Quality of construction -- metal case, decent knobs, pots and switches - no complaints so far.CONS- LED does not flash speed rate- Speed control would be better placed Top right or bottom right for \"toe\" tweaking- I have just had this a day so can\\'t tell but might be limited in getting the deepest most lush univibe sound - not sure about that and I will update this review as I get time to test further. But it sounds great to me...OVERALL - highly recommended if you want a univibe and don\\'t want to do a lot of comparison shopping. I have done it for you. Some users report quality issues here -- I guess time will tell on that. Mine works fine so far, and for $60 you could buy 2 and still save money over most other options available.--------------------------------------NOTES ON ***OTHER*** PEDALS I COMPARED---------------------------------------- Fulltone Mini Deja vibe -- highest quality construction (as expected at $200). The large knob in the lower right corner for speed is great and allows toe tweaking -- very useful on a vibe pedal. My complaint is that this vibe colors my tone - it boosts the mid range tones while maintaining the crisp highs and slightly losing the bass. This probably helps the sound stand out in a mix, however, I\\'d rather that my vibe not provide EQ because when I switch it on or off, I don\\'t want to have to compensate at my guitar tone knobs to try to get back \"my sound\". I was able to match exactly an authentic original Uni-vibe sound with some adjusting. It seems to kind of muffle the pick attack or compress it also. I have a love-hate relationship with this pedal after about a week of testing it. Some days I hate it...but I like the build quality and the speed control. I originally liked that it was one of only two pedals that didn\\'t strip the treble off my tone -- until I realized the mids were boosted, the bass was cut and the pick attack was somehow tweaked. Mixed bag, and at $200 shouldn\\'t be.- MXR/Dunlop M68 (new in 2014). At about $140, The new M68 Uni-Vibe is a very good vibe pedal with much to like. It is second place on my list. On pure sound I might even like it slightly better than the Jimi, and that\\'s saying something! It\\'s the perfect form factor (shape/size) with no significant coloration of the tone, other than perhaps a tiny boost of treble in one mode. The M68 gives the Jimi a good run...and if you are extremely tight on board space, it might be a better choice for you. They sound very similar. The M68 has a wider range of adjustment on speed/depth than the Jimi, but I\\'m not sure the extra range is useful. MXR/Jim Dunlop/MXR have GREAT factory customer service if you ever have an issue. They fixed one of my pedals free even though out of warranty. I really do wish MXR would move their power supply jack to the rear vertical surface instead of the right side vertical surface. It is often in the way of right angle plugs on all my other MXR\\'s. Use of the small top left push button for switching from chorus to vibe on this pedal was the main negative issue as I\\'d have to leave it with the mini switch engaged, and the red LED burning all the time, looking like it is on when I was not actually engaging the circuit with the main switch. It was also a tight fit. This pedal has a level knob which I\\'m usually a fan of but I don\\'t see the need for it on this effect. I didn\\'t care for the white \"main\" LED much, and of course the power supply location. The LED on this does pulse the speed, but was annoying due to the white LED. That\\'s a subjective thing I suppose. All said this is a great sounding option with that perfect MXR size, so a good choice. But still 2X the cost of the Jimi. I stuck with the Jimi on form, function, sound, and value.- Dunlop Uni-vibe UV1 -- Cool stainless steel construction. Knobs were hard to see settings. placement of vintage switch on the back of the pedal was easily forgotten at worst and awkward at best. Non standard 18V power supply takes double slots from my power supply brick. Sound was very good but did also color my EQ sound by boosting the bass, and muffling the mids and highs slightly. On the one hand, this sound matched a lot of recorded uni-vibe sounds I\\'ve heard. On the other hand, once you strip the treble its hard to put it back in the mix. The seller had a 3 day return policy (3 days??!!) so I returned it and they lost the sale. Othewise, I would still be thinking about this one. I was on the fence about whether it was my winner. I was able to match a true uni-vibe sample, but the treble was slightly lacking and bugged me. At $220 I\\'d have to love it to keep it.- Voodoo Labs Micro Vibe - Liked the form factor, the simple controls, high visibility knobs, ability to toe tweak controls, standard 9V power supply, and placement of all jacks. Can get a very lush, even excessive univibe sound except the bass is very boosted, and mids/highs are cut. The EQ effect just kills the pedal for me. Its going back. Not my pick at $150.- BBE Soul Bender - My least favorite Vibe. It had extreme muffling of mids and highs, heavy boost of bass. In a band mix, I\\'m pretty sure it would get totally lost. At home, might sound ok. form factor was good, controls were simple, I think it pulsed the speed. My recollection is it had an overly bright blue LED. It was the first vibe I bought, and I only compared to Fulltone and Dunlop before returning it. Had some useable sounds, but with the intensity above 50% had an annoying \"womp womp womp\" of a bass note that was not coming from my guitar -- a weird defect in the effect sound in my opinion. With intensity below 50% it was usable...kind of. But a tone muffler. I returned this one early.- Dunlop ROTO-Vibe : A good choice (perhaps the only choice) if you MUST have expression pedal controlled speed adjustment. Didn\\'t color the tone much - and that was a problem on most other uni-vibes tested. Limited speed range and awkward controls placement were most annoying to me. Intensity range seemed less than other pedals too. Large footprint if mounted on board, but also offers the ability to take NO space on the board by not mounting it. I didn\\'t like that when you switch the effect on, you are automatically at high speed due to the mechanical nature of the design. Some awkwardness in the placement of controls and power plug vs guitar cables when plugged in. Std power supply a plus. LED indicators good and flash the speed. Durable construction although the mechanical nature means in time something will need lubricating and you may need to replace internal gears or pots. Overpriced 1.5 to 2X in my opinion.- Other general modulation effects. Univibes are effectively a phase effect - without the swooshy space-age edge on the sound. You can probably modify a modern phaser pedal to get the univibe sound which is like a vibrato plus analog chorus combined. A modern phaser is close, a modern flanger is much too space-age sounding. Vibrato pedals can capture the vibrato aspect of a uni-vibe and I\\'d recommend the behringer vibrato at $25 if you like vibrato sounds. uni-vibes are normally used for their \"chorus\" setting, not the vibrato setting. Didn\\'t care for the Behringer time machine.My gear used for testing: Fender American Deluxe stratocaster. Mesa Mini-rectifier amplifier, Mesa Rectifier 2x12 cabinet with Celestion V30\\'s. Pedal train pedal board, voodoo labs pedal power power supplies.A NOTE ON VENDOR SELECTIONI had a very bad experience with the vendor I bought my MXR/Dunlop M68 from, and while it does not weigh at all on my review of that product, I provided a separate star rating on the vendor feedback page. I recommend if you choose to purchase that pedal (or anything else) you be careful to avoid the Amazon Marketplace vendor called MixDSPnet in San Jose, CA. In addition to charging a 15% restocking fee if you want to return the pedal (in original condition with all materials and packaging), getting them to even acknowledge the return request at all was a problem and took over a week and finally opening a claim with Amazon to get any meaningful response. Once they did communicate, they were very unprofessional. Further, when the product was shipped back signature required (as recommended by amazon), they were \"not available\" or refused to sign for it so after several weeks of attempting to return the product, it remains **unrefunded** despite their confirmation that I could return the item for an 85% refund. I expect I\\'ll need to work further with Amazon in the end to get this resolved. A google earth view of their addressed explained it all. MixDSPnet appears to be running out of an apartment complex. Most Amazon marketplace sellers are just fine but this one is really not, at least when it comes to returns. Also, while they sell a few Dunlop/MXR guitar pedals, looking at their site reveals it\\'s not their primary business - they seem to sell a bunch of other non-musical widgets. My recommendation is that you find a vendor who is in the musical instrument business and who will provide the typical no cost refunds for 30 to 45 days as most large musical instrument retailers do, should you need it. They have a few hundred positive transactions, so maybe can be OK but I can only comment on my experience and this was the worst online transaction I\\'ve ever had shopping on amazon.'"
      ]
     },
     "execution_count": 142,
     "metadata": {},
     "output_type": "execute_result"
    }
   ],
   "source": [
    "largest_sample = df.iloc[6576]\n",
    "largest_sample['reviewText']"
   ]
  },
  {
   "cell_type": "code",
   "execution_count": 143,
   "id": "0b3c7431",
   "metadata": {},
   "outputs": [
    {
     "data": {
      "text/html": [
       "<div>\n",
       "<style scoped>\n",
       "    .dataframe tbody tr th:only-of-type {\n",
       "        vertical-align: middle;\n",
       "    }\n",
       "\n",
       "    .dataframe tbody tr th {\n",
       "        vertical-align: top;\n",
       "    }\n",
       "\n",
       "    .dataframe thead th {\n",
       "        text-align: right;\n",
       "    }\n",
       "</style>\n",
       "<table border=\"1\" class=\"dataframe\">\n",
       "  <thead>\n",
       "    <tr style=\"text-align: right;\">\n",
       "      <th></th>\n",
       "      <th>overall</th>\n",
       "      <th>unixReviewTime</th>\n",
       "      <th>reviewTextLenght</th>\n",
       "      <th>helpful_rating</th>\n",
       "    </tr>\n",
       "  </thead>\n",
       "  <tbody>\n",
       "    <tr>\n",
       "      <th>count</th>\n",
       "      <td>2502.000000</td>\n",
       "      <td>2.502000e+03</td>\n",
       "      <td>2502.000000</td>\n",
       "      <td>2502.000000</td>\n",
       "    </tr>\n",
       "    <tr>\n",
       "      <th>mean</th>\n",
       "      <td>4.498002</td>\n",
       "      <td>1.338650e+09</td>\n",
       "      <td>796.956435</td>\n",
       "      <td>0.971197</td>\n",
       "    </tr>\n",
       "    <tr>\n",
       "      <th>std</th>\n",
       "      <td>0.865504</td>\n",
       "      <td>4.756590e+07</td>\n",
       "      <td>930.985109</td>\n",
       "      <td>0.070004</td>\n",
       "    </tr>\n",
       "    <tr>\n",
       "      <th>min</th>\n",
       "      <td>1.000000</td>\n",
       "      <td>1.095466e+09</td>\n",
       "      <td>0.000000</td>\n",
       "      <td>0.700000</td>\n",
       "    </tr>\n",
       "    <tr>\n",
       "      <th>25%</th>\n",
       "      <td>4.000000</td>\n",
       "      <td>1.314598e+09</td>\n",
       "      <td>252.000000</td>\n",
       "      <td>1.000000</td>\n",
       "    </tr>\n",
       "    <tr>\n",
       "      <th>50%</th>\n",
       "      <td>5.000000</td>\n",
       "      <td>1.348618e+09</td>\n",
       "      <td>487.000000</td>\n",
       "      <td>1.000000</td>\n",
       "    </tr>\n",
       "    <tr>\n",
       "      <th>75%</th>\n",
       "      <td>5.000000</td>\n",
       "      <td>1.374710e+09</td>\n",
       "      <td>997.250000</td>\n",
       "      <td>1.000000</td>\n",
       "    </tr>\n",
       "    <tr>\n",
       "      <th>max</th>\n",
       "      <td>5.000000</td>\n",
       "      <td>1.405123e+09</td>\n",
       "      <td>11310.000000</td>\n",
       "      <td>1.000000</td>\n",
       "    </tr>\n",
       "  </tbody>\n",
       "</table>\n",
       "</div>"
      ],
      "text/plain": [
       "           overall  unixReviewTime  reviewTextLenght  helpful_rating\n",
       "count  2502.000000    2.502000e+03       2502.000000     2502.000000\n",
       "mean      4.498002    1.338650e+09        796.956435        0.971197\n",
       "std       0.865504    4.756590e+07        930.985109        0.070004\n",
       "min       1.000000    1.095466e+09          0.000000        0.700000\n",
       "25%       4.000000    1.314598e+09        252.000000        1.000000\n",
       "50%       5.000000    1.348618e+09        487.000000        1.000000\n",
       "75%       5.000000    1.374710e+09        997.250000        1.000000\n",
       "max       5.000000    1.405123e+09      11310.000000        1.000000"
      ]
     },
     "execution_count": 143,
     "metadata": {},
     "output_type": "execute_result"
    }
   ],
   "source": [
    "#Distribution of most helpful comments\n",
    "df[df['helpful_rating'] >= 0.70].describe()"
   ]
  },
  {
   "cell_type": "code",
   "execution_count": 144,
   "id": "7e83c932",
   "metadata": {},
   "outputs": [
    {
     "name": "stdout",
     "output_type": "stream",
     "text": [
      "        overall  unixReviewTime  reviewTextLenght  helpful_rating\n",
      "count  7.000000    7.000000e+00               7.0        7.000000\n",
      "mean   4.857143    1.341261e+09               0.0        0.981059\n",
      "std    0.377964    4.424145e+07               0.0        0.020117\n",
      "min    4.000000    1.258416e+09               0.0        0.952381\n",
      "25%    5.000000    1.331035e+09               0.0        0.965327\n",
      "50%    5.000000    1.342656e+09               0.0        0.984375\n",
      "75%    5.000000    1.368792e+09               0.0        1.000000\n",
      "max    5.000000    1.388102e+09               0.0        1.000000\n",
      "          reviewerID        asin            reviewerName     helpful  \\\n",
      "2927   AF7AQHLX1UV1Z  B0002H0H4A           Smoothbassman  [101, 105]   \n",
      "4401   AU3GYRAKBUAEU  B000CD1R7K              Jon Norris  [189, 192]   \n",
      "8739  A3N93PUHEMQU34  B004OU2IQG    L. Su \"Flying train\"      [3, 3]   \n",
      "9175   AMEZJVXMSEPY0  B005FKF1PY                 M. Luke      [1, 1]   \n",
      "9306  A3ABAA36CZVYNX  B005M0TKL8                    Dave    [31, 32]   \n",
      "9313  A3OEBPVLF35YQL  B005M0TKL8               StratDude    [20, 21]   \n",
      "9342  A3OA4DV4L81N1D  B005NACC6M  P.K. Frary \"Gochugogi\"      [4, 4]   \n",
      "\n",
      "     reviewText  overall                                        summary  \\\n",
      "2927                   5                    The Pop Rocks with the Yeti   \n",
      "4401                   4                                great foot rest   \n",
      "8739                   5                   To make you sound like a pro   \n",
      "9175                   5                        Mini tech for musicians   \n",
      "9306                   5      No power = No Sound, But It Sounds GREAT!   \n",
      "9313                   5  This would be a must-have at twice the price.   \n",
      "9342                   5        Great sound and features for the price!   \n",
      "\n",
      "      unixReviewTime   reviewTime  reviewTextLenght  helpful_rating  \n",
      "2927      1342656000  07 19, 2012                 0        0.961905  \n",
      "4401      1258416000  11 17, 2009                 0        0.984375  \n",
      "8739      1388102400  12 27, 2013                 0        1.000000  \n",
      "9175      1319500800  10 25, 2011                 0        1.000000  \n",
      "9306      1342569600  07 18, 2012                 0        0.968750  \n",
      "9313      1350172800  10 14, 2012                 0        0.952381  \n",
      "9342      1387411200  12 19, 2013                 0        1.000000  \n"
     ]
    }
   ],
   "source": [
    "#Reviews without text\n",
    "print(df[df['reviewTextLenght'] == 0].describe())\n",
    "print(df[df['reviewTextLenght'] == 0])"
   ]
  }
 ],
 "metadata": {
  "kernelspec": {
   "display_name": "Python [conda env:comp262_2]",
   "language": "python",
   "name": "conda-env-comp262_2-py"
  },
  "language_info": {
   "codemirror_mode": {
    "name": "ipython",
    "version": 3
   },
   "file_extension": ".py",
   "mimetype": "text/x-python",
   "name": "python",
   "nbconvert_exporter": "python",
   "pygments_lexer": "ipython3",
   "version": "3.8.12"
  }
 },
 "nbformat": 4,
 "nbformat_minor": 5
}
