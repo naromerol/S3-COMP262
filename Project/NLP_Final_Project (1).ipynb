{
 "cells": [
  {
   "cell_type": "code",
   "execution_count": 2,
   "id": "77dade0b",
   "metadata": {},
   "outputs": [
    {
     "ename": "ValueError",
     "evalue": "Expected object or value",
     "output_type": "error",
     "traceback": [
      "\u001b[1;31m---------------------------------------------------------------------------\u001b[0m",
      "\u001b[1;31mValueError\u001b[0m                                Traceback (most recent call last)",
      "\u001b[1;32m~\\AppData\\Local\\Temp/ipykernel_17844/2460553112.py\u001b[0m in \u001b[0;36m<module>\u001b[1;34m\u001b[0m\n\u001b[0;32m      1\u001b[0m \u001b[1;32mimport\u001b[0m \u001b[0mjson\u001b[0m\u001b[1;33m\u001b[0m\u001b[1;33m\u001b[0m\u001b[0m\n\u001b[0;32m      2\u001b[0m \u001b[1;32mimport\u001b[0m \u001b[0mpandas\u001b[0m \u001b[1;32mas\u001b[0m \u001b[0mpd\u001b[0m\u001b[1;33m\u001b[0m\u001b[1;33m\u001b[0m\u001b[0m\n\u001b[1;32m----> 3\u001b[1;33m \u001b[0mdf\u001b[0m \u001b[1;33m=\u001b[0m \u001b[0mpd\u001b[0m\u001b[1;33m.\u001b[0m\u001b[0mread_json\u001b[0m\u001b[1;33m(\u001b[0m\u001b[1;34m'D:/e/SEM4/NLP/Musical_Instruments_5.json'\u001b[0m\u001b[1;33m,\u001b[0m\u001b[0mlines\u001b[0m \u001b[1;33m=\u001b[0m \u001b[1;32mTrue\u001b[0m\u001b[1;33m)\u001b[0m\u001b[1;33m\u001b[0m\u001b[1;33m\u001b[0m\u001b[0m\n\u001b[0m\u001b[0;32m      4\u001b[0m \u001b[0mdf\u001b[0m\u001b[1;33m\u001b[0m\u001b[1;33m\u001b[0m\u001b[0m\n",
      "\u001b[1;32mC:\\Dev\\anaconda3\\lib\\site-packages\\pandas\\util\\_decorators.py\u001b[0m in \u001b[0;36mwrapper\u001b[1;34m(*args, **kwargs)\u001b[0m\n\u001b[0;32m    205\u001b[0m                 \u001b[1;32melse\u001b[0m\u001b[1;33m:\u001b[0m\u001b[1;33m\u001b[0m\u001b[1;33m\u001b[0m\u001b[0m\n\u001b[0;32m    206\u001b[0m                     \u001b[0mkwargs\u001b[0m\u001b[1;33m[\u001b[0m\u001b[0mnew_arg_name\u001b[0m\u001b[1;33m]\u001b[0m \u001b[1;33m=\u001b[0m \u001b[0mnew_arg_value\u001b[0m\u001b[1;33m\u001b[0m\u001b[1;33m\u001b[0m\u001b[0m\n\u001b[1;32m--> 207\u001b[1;33m             \u001b[1;32mreturn\u001b[0m \u001b[0mfunc\u001b[0m\u001b[1;33m(\u001b[0m\u001b[1;33m*\u001b[0m\u001b[0margs\u001b[0m\u001b[1;33m,\u001b[0m \u001b[1;33m**\u001b[0m\u001b[0mkwargs\u001b[0m\u001b[1;33m)\u001b[0m\u001b[1;33m\u001b[0m\u001b[1;33m\u001b[0m\u001b[0m\n\u001b[0m\u001b[0;32m    208\u001b[0m \u001b[1;33m\u001b[0m\u001b[0m\n\u001b[0;32m    209\u001b[0m         \u001b[1;32mreturn\u001b[0m \u001b[0mcast\u001b[0m\u001b[1;33m(\u001b[0m\u001b[0mF\u001b[0m\u001b[1;33m,\u001b[0m \u001b[0mwrapper\u001b[0m\u001b[1;33m)\u001b[0m\u001b[1;33m\u001b[0m\u001b[1;33m\u001b[0m\u001b[0m\n",
      "\u001b[1;32mC:\\Dev\\anaconda3\\lib\\site-packages\\pandas\\util\\_decorators.py\u001b[0m in \u001b[0;36mwrapper\u001b[1;34m(*args, **kwargs)\u001b[0m\n\u001b[0;32m    309\u001b[0m                     \u001b[0mstacklevel\u001b[0m\u001b[1;33m=\u001b[0m\u001b[0mstacklevel\u001b[0m\u001b[1;33m,\u001b[0m\u001b[1;33m\u001b[0m\u001b[1;33m\u001b[0m\u001b[0m\n\u001b[0;32m    310\u001b[0m                 )\n\u001b[1;32m--> 311\u001b[1;33m             \u001b[1;32mreturn\u001b[0m \u001b[0mfunc\u001b[0m\u001b[1;33m(\u001b[0m\u001b[1;33m*\u001b[0m\u001b[0margs\u001b[0m\u001b[1;33m,\u001b[0m \u001b[1;33m**\u001b[0m\u001b[0mkwargs\u001b[0m\u001b[1;33m)\u001b[0m\u001b[1;33m\u001b[0m\u001b[1;33m\u001b[0m\u001b[0m\n\u001b[0m\u001b[0;32m    312\u001b[0m \u001b[1;33m\u001b[0m\u001b[0m\n\u001b[0;32m    313\u001b[0m         \u001b[1;32mreturn\u001b[0m \u001b[0mwrapper\u001b[0m\u001b[1;33m\u001b[0m\u001b[1;33m\u001b[0m\u001b[0m\n",
      "\u001b[1;32mC:\\Dev\\anaconda3\\lib\\site-packages\\pandas\\io\\json\\_json.py\u001b[0m in \u001b[0;36mread_json\u001b[1;34m(path_or_buf, orient, typ, dtype, convert_axes, convert_dates, keep_default_dates, numpy, precise_float, date_unit, encoding, encoding_errors, lines, chunksize, compression, nrows, storage_options)\u001b[0m\n\u001b[0;32m    612\u001b[0m \u001b[1;33m\u001b[0m\u001b[0m\n\u001b[0;32m    613\u001b[0m     \u001b[1;32mwith\u001b[0m \u001b[0mjson_reader\u001b[0m\u001b[1;33m:\u001b[0m\u001b[1;33m\u001b[0m\u001b[1;33m\u001b[0m\u001b[0m\n\u001b[1;32m--> 614\u001b[1;33m         \u001b[1;32mreturn\u001b[0m \u001b[0mjson_reader\u001b[0m\u001b[1;33m.\u001b[0m\u001b[0mread\u001b[0m\u001b[1;33m(\u001b[0m\u001b[1;33m)\u001b[0m\u001b[1;33m\u001b[0m\u001b[1;33m\u001b[0m\u001b[0m\n\u001b[0m\u001b[0;32m    615\u001b[0m \u001b[1;33m\u001b[0m\u001b[0m\n\u001b[0;32m    616\u001b[0m \u001b[1;33m\u001b[0m\u001b[0m\n",
      "\u001b[1;32mC:\\Dev\\anaconda3\\lib\\site-packages\\pandas\\io\\json\\_json.py\u001b[0m in \u001b[0;36mread\u001b[1;34m(self)\u001b[0m\n\u001b[0;32m    744\u001b[0m                 \u001b[0mdata\u001b[0m \u001b[1;33m=\u001b[0m \u001b[0mensure_str\u001b[0m\u001b[1;33m(\u001b[0m\u001b[0mself\u001b[0m\u001b[1;33m.\u001b[0m\u001b[0mdata\u001b[0m\u001b[1;33m)\u001b[0m\u001b[1;33m\u001b[0m\u001b[1;33m\u001b[0m\u001b[0m\n\u001b[0;32m    745\u001b[0m                 \u001b[0mdata_lines\u001b[0m \u001b[1;33m=\u001b[0m \u001b[0mdata\u001b[0m\u001b[1;33m.\u001b[0m\u001b[0msplit\u001b[0m\u001b[1;33m(\u001b[0m\u001b[1;34m\"\\n\"\u001b[0m\u001b[1;33m)\u001b[0m\u001b[1;33m\u001b[0m\u001b[1;33m\u001b[0m\u001b[0m\n\u001b[1;32m--> 746\u001b[1;33m                 \u001b[0mobj\u001b[0m \u001b[1;33m=\u001b[0m \u001b[0mself\u001b[0m\u001b[1;33m.\u001b[0m\u001b[0m_get_object_parser\u001b[0m\u001b[1;33m(\u001b[0m\u001b[0mself\u001b[0m\u001b[1;33m.\u001b[0m\u001b[0m_combine_lines\u001b[0m\u001b[1;33m(\u001b[0m\u001b[0mdata_lines\u001b[0m\u001b[1;33m)\u001b[0m\u001b[1;33m)\u001b[0m\u001b[1;33m\u001b[0m\u001b[1;33m\u001b[0m\u001b[0m\n\u001b[0m\u001b[0;32m    747\u001b[0m         \u001b[1;32melse\u001b[0m\u001b[1;33m:\u001b[0m\u001b[1;33m\u001b[0m\u001b[1;33m\u001b[0m\u001b[0m\n\u001b[0;32m    748\u001b[0m             \u001b[0mobj\u001b[0m \u001b[1;33m=\u001b[0m \u001b[0mself\u001b[0m\u001b[1;33m.\u001b[0m\u001b[0m_get_object_parser\u001b[0m\u001b[1;33m(\u001b[0m\u001b[0mself\u001b[0m\u001b[1;33m.\u001b[0m\u001b[0mdata\u001b[0m\u001b[1;33m)\u001b[0m\u001b[1;33m\u001b[0m\u001b[1;33m\u001b[0m\u001b[0m\n",
      "\u001b[1;32mC:\\Dev\\anaconda3\\lib\\site-packages\\pandas\\io\\json\\_json.py\u001b[0m in \u001b[0;36m_get_object_parser\u001b[1;34m(self, json)\u001b[0m\n\u001b[0;32m    768\u001b[0m         \u001b[0mobj\u001b[0m \u001b[1;33m=\u001b[0m \u001b[1;32mNone\u001b[0m\u001b[1;33m\u001b[0m\u001b[1;33m\u001b[0m\u001b[0m\n\u001b[0;32m    769\u001b[0m         \u001b[1;32mif\u001b[0m \u001b[0mtyp\u001b[0m \u001b[1;33m==\u001b[0m \u001b[1;34m\"frame\"\u001b[0m\u001b[1;33m:\u001b[0m\u001b[1;33m\u001b[0m\u001b[1;33m\u001b[0m\u001b[0m\n\u001b[1;32m--> 770\u001b[1;33m             \u001b[0mobj\u001b[0m \u001b[1;33m=\u001b[0m \u001b[0mFrameParser\u001b[0m\u001b[1;33m(\u001b[0m\u001b[0mjson\u001b[0m\u001b[1;33m,\u001b[0m \u001b[1;33m**\u001b[0m\u001b[0mkwargs\u001b[0m\u001b[1;33m)\u001b[0m\u001b[1;33m.\u001b[0m\u001b[0mparse\u001b[0m\u001b[1;33m(\u001b[0m\u001b[1;33m)\u001b[0m\u001b[1;33m\u001b[0m\u001b[1;33m\u001b[0m\u001b[0m\n\u001b[0m\u001b[0;32m    771\u001b[0m \u001b[1;33m\u001b[0m\u001b[0m\n\u001b[0;32m    772\u001b[0m         \u001b[1;32mif\u001b[0m \u001b[0mtyp\u001b[0m \u001b[1;33m==\u001b[0m \u001b[1;34m\"series\"\u001b[0m \u001b[1;32mor\u001b[0m \u001b[0mobj\u001b[0m \u001b[1;32mis\u001b[0m \u001b[1;32mNone\u001b[0m\u001b[1;33m:\u001b[0m\u001b[1;33m\u001b[0m\u001b[1;33m\u001b[0m\u001b[0m\n",
      "\u001b[1;32mC:\\Dev\\anaconda3\\lib\\site-packages\\pandas\\io\\json\\_json.py\u001b[0m in \u001b[0;36mparse\u001b[1;34m(self)\u001b[0m\n\u001b[0;32m    883\u001b[0m \u001b[1;33m\u001b[0m\u001b[0m\n\u001b[0;32m    884\u001b[0m         \u001b[1;32melse\u001b[0m\u001b[1;33m:\u001b[0m\u001b[1;33m\u001b[0m\u001b[1;33m\u001b[0m\u001b[0m\n\u001b[1;32m--> 885\u001b[1;33m             \u001b[0mself\u001b[0m\u001b[1;33m.\u001b[0m\u001b[0m_parse_no_numpy\u001b[0m\u001b[1;33m(\u001b[0m\u001b[1;33m)\u001b[0m\u001b[1;33m\u001b[0m\u001b[1;33m\u001b[0m\u001b[0m\n\u001b[0m\u001b[0;32m    886\u001b[0m \u001b[1;33m\u001b[0m\u001b[0m\n\u001b[0;32m    887\u001b[0m         \u001b[1;32mif\u001b[0m \u001b[0mself\u001b[0m\u001b[1;33m.\u001b[0m\u001b[0mobj\u001b[0m \u001b[1;32mis\u001b[0m \u001b[1;32mNone\u001b[0m\u001b[1;33m:\u001b[0m\u001b[1;33m\u001b[0m\u001b[1;33m\u001b[0m\u001b[0m\n",
      "\u001b[1;32mC:\\Dev\\anaconda3\\lib\\site-packages\\pandas\\io\\json\\_json.py\u001b[0m in \u001b[0;36m_parse_no_numpy\u001b[1;34m(self)\u001b[0m\n\u001b[0;32m   1138\u001b[0m         \u001b[1;32mif\u001b[0m \u001b[0morient\u001b[0m \u001b[1;33m==\u001b[0m \u001b[1;34m\"columns\"\u001b[0m\u001b[1;33m:\u001b[0m\u001b[1;33m\u001b[0m\u001b[1;33m\u001b[0m\u001b[0m\n\u001b[0;32m   1139\u001b[0m             self.obj = DataFrame(\n\u001b[1;32m-> 1140\u001b[1;33m                 \u001b[0mloads\u001b[0m\u001b[1;33m(\u001b[0m\u001b[0mjson\u001b[0m\u001b[1;33m,\u001b[0m \u001b[0mprecise_float\u001b[0m\u001b[1;33m=\u001b[0m\u001b[0mself\u001b[0m\u001b[1;33m.\u001b[0m\u001b[0mprecise_float\u001b[0m\u001b[1;33m)\u001b[0m\u001b[1;33m,\u001b[0m \u001b[0mdtype\u001b[0m\u001b[1;33m=\u001b[0m\u001b[1;32mNone\u001b[0m\u001b[1;33m\u001b[0m\u001b[1;33m\u001b[0m\u001b[0m\n\u001b[0m\u001b[0;32m   1141\u001b[0m             )\n\u001b[0;32m   1142\u001b[0m         \u001b[1;32melif\u001b[0m \u001b[0morient\u001b[0m \u001b[1;33m==\u001b[0m \u001b[1;34m\"split\"\u001b[0m\u001b[1;33m:\u001b[0m\u001b[1;33m\u001b[0m\u001b[1;33m\u001b[0m\u001b[0m\n",
      "\u001b[1;31mValueError\u001b[0m: Expected object or value"
     ]
    }
   ],
   "source": [
    "import json\n",
    "import pandas as pd\n",
    "df = pd.read_json('D:/e/SEM4/NLP/Musical_Instruments_5.json',lines = True)\n",
    "df"
   ]
  },
  {
   "cell_type": "markdown",
   "id": "5bb9d7f1",
   "metadata": {},
   "source": [
    "reviewerID - ID of the reviewer, e.g. A2SUAM1J3GNN3B\n",
    "asin - ID of the product, e.g. 0000013714\n",
    "reviewerName - name of the reviewer\n",
    "helpful - helpfulness rating of the review, e.g. 2/3\n",
    "reviewText - text of the review\n",
    "overall - rating of the product\n",
    "summary - summary of the review\n",
    "unixReviewTime - time of the review (unix time)\n",
    "reviewTime - time of the review (raw)"
   ]
  },
  {
   "cell_type": "code",
   "execution_count": null,
   "id": "de1ed12f",
   "metadata": {},
   "outputs": [],
   "source": [
    "df.info()"
   ]
  },
  {
   "cell_type": "code",
   "execution_count": null,
   "id": "54893c92",
   "metadata": {},
   "outputs": [],
   "source": [
    "df.columns"
   ]
  },
  {
   "cell_type": "code",
   "execution_count": null,
   "id": "5d25a84e",
   "metadata": {},
   "outputs": [],
   "source": [
    "df.describe().transpose()"
   ]
  },
  {
   "cell_type": "code",
   "execution_count": null,
   "id": "a18d2e9a",
   "metadata": {},
   "outputs": [],
   "source": [
    "print(\"\\n\\n\\nMissing Values:\\n\",df.isna().sum())"
   ]
  },
  {
   "cell_type": "code",
   "execution_count": null,
   "id": "b3cadc66",
   "metadata": {},
   "outputs": [],
   "source": [
    "#Total number of products\n",
    "df.asin.nunique()"
   ]
  },
  {
   "cell_type": "code",
   "execution_count": null,
   "id": "aa6738ed",
   "metadata": {},
   "outputs": [],
   "source": [
    "#Total number of unique users\n",
    "df.reviewerID.nunique()"
   ]
  },
  {
   "cell_type": "markdown",
   "id": "2e5bc5f5",
   "metadata": {},
   "source": [
    "a. Counts, averages"
   ]
  },
  {
   "cell_type": "code",
   "execution_count": null,
   "id": "51dab34c",
   "metadata": {},
   "outputs": [],
   "source": [
    "df.count()"
   ]
  },
  {
   "cell_type": "code",
   "execution_count": null,
   "id": "4fde2d9d",
   "metadata": {},
   "outputs": [],
   "source": [
    "df.mean()"
   ]
  },
  {
   "cell_type": "markdown",
   "id": "e619640c",
   "metadata": {},
   "source": [
    "b. Distribution of the number of reviews across products"
   ]
  },
  {
   "cell_type": "code",
   "execution_count": null,
   "id": "0fe51c8f",
   "metadata": {},
   "outputs": [],
   "source": [
    "import seaborn as sns\n",
    "import matplotlib.pyplot as plt\n",
    "sns.pairplot(df)"
   ]
  },
  {
   "cell_type": "code",
   "execution_count": null,
   "id": "c9e0924f",
   "metadata": {},
   "outputs": [],
   "source": [
    "ratings= df['overall'].value_counts().keys().tolist()\n",
    "values = df['overall'].value_counts().tolist()"
   ]
  },
  {
   "cell_type": "code",
   "execution_count": null,
   "id": "654f6620",
   "metadata": {
    "scrolled": true
   },
   "outputs": [],
   "source": [
    "print(f'Rating   Distribution')\n",
    "for i in range(len(ratings)):\n",
    "    print(f'{ratings[i]}      {values[i]}')"
   ]
  },
  {
   "cell_type": "code",
   "execution_count": null,
   "id": "0ce25aff",
   "metadata": {},
   "outputs": [],
   "source": [
    "num_bin=100\n",
    "plt.hist(df['overall'],num_bin,alpha=0.5)\n",
    "plt.title('Product Rating')\n",
    "plt.xlabel(\"Rating\")\n",
    "plt.ylabel(\"Products\")\n",
    "plt.show()"
   ]
  },
  {
   "cell_type": "markdown",
   "id": "42b73e2b",
   "metadata": {},
   "source": [
    "c. Distribution of the number of reviews per product"
   ]
  },
  {
   "cell_type": "code",
   "execution_count": null,
   "id": "23c484c5",
   "metadata": {},
   "outputs": [],
   "source": [
    "products= df['asin'].value_counts().keys().tolist()\n",
    "reviewsPerProducts = df['asin'].value_counts().tolist()"
   ]
  },
  {
   "cell_type": "code",
   "execution_count": null,
   "id": "37b63c4b",
   "metadata": {},
   "outputs": [],
   "source": [
    "print(f'Products   Reviews count')\n",
    "for i in range(len(products)):\n",
    "    print(f'{products[i]}      {reviewsPerProducts[i]}')"
   ]
  },
  {
   "cell_type": "code",
   "execution_count": null,
   "id": "93f6ccdc",
   "metadata": {},
   "outputs": [],
   "source": [
    "highestRatedProduct=df.loc[df['asin'] == \"B003VWJ2K8\"]\n",
    "highestRatedProduct[\"overall\"].value_counts()"
   ]
  },
  {
   "cell_type": "code",
   "execution_count": null,
   "id": "3393fb80",
   "metadata": {},
   "outputs": [],
   "source": [
    "lowestRatedProduct=df.loc[df['asin'] == \"B004HJ9COU\"]\n",
    "lowestRatedProduct[\"overall\"].value_counts()"
   ]
  },
  {
   "cell_type": "code",
   "execution_count": null,
   "id": "72116449",
   "metadata": {},
   "outputs": [],
   "source": [
    "plt.hist(df['asin'].value_counts(),num_bin,alpha=0.5)\n",
    "plt.xlabel(' Reviews')\n",
    "plt.ylabel('Products')\n",
    "plt.title('Distribution of Reviews per product')\n",
    "plt.show()"
   ]
  },
  {
   "cell_type": "code",
   "execution_count": null,
   "id": "242f7d3b",
   "metadata": {},
   "outputs": [],
   "source": [
    "user= df['reviewerID'].value_counts().keys().tolist()\n",
    "reviewsPerUser = df['reviewerID'].value_counts().tolist()"
   ]
  },
  {
   "cell_type": "code",
   "execution_count": null,
   "id": "ce156654",
   "metadata": {},
   "outputs": [],
   "source": [
    "print(f'Users:Reviews count')\n",
    "for i in range(len(user)):\n",
    "    print(f'{user[i]}:{reviewsPerUser[i]}')"
   ]
  },
  {
   "cell_type": "code",
   "execution_count": null,
   "id": "2ac64764",
   "metadata": {
    "scrolled": false
   },
   "outputs": [],
   "source": [
    "plt.hist(df['reviewerID'].value_counts(),num_bin,alpha=0.5)\n",
    "plt.xlabel('Reviews')\n",
    "plt.ylabel('Users')\n",
    "plt.title('Distribution of Reviews per User')\n",
    "plt.show()"
   ]
  },
  {
   "cell_type": "markdown",
   "id": "c1f7e876",
   "metadata": {},
   "source": [
    "# 2. Text basic pre-processing:"
   ]
  },
  {
   "cell_type": "code",
   "execution_count": null,
   "id": "c73629c3",
   "metadata": {},
   "outputs": [],
   "source": [
    "#Stratified sampling\n",
    "random_sample = df.groupby('overall', group_keys=False).apply(lambda x: x.sample(200))\n"
   ]
  },
  {
   "cell_type": "code",
   "execution_count": null,
   "id": "35df12ea",
   "metadata": {},
   "outputs": [],
   "source": [
    "random_sample['overall'].value_counts()"
   ]
  },
  {
   "cell_type": "code",
   "execution_count": null,
   "id": "ad4f8a59",
   "metadata": {},
   "outputs": [],
   "source": [
    "def product_ratings(x):\n",
    "    if x['overall'] == 5 or x['overall'] == 4:\n",
    "        x['ratings'] = 'Positive'\n",
    "    elif x['overall'] == 3:\n",
    "        x['ratings'] = 'Neutral'\n",
    "    elif x['overall'] == 2 or x['overall'] == 1:\n",
    "        x['ratings'] = 'Negative'\n",
    "    return x"
   ]
  },
  {
   "cell_type": "code",
   "execution_count": null,
   "id": "23b2c51a",
   "metadata": {},
   "outputs": [],
   "source": [
    "random_sample = random_sample.apply(product_ratings, axis = 1)\n"
   ]
  },
  {
   "cell_type": "code",
   "execution_count": null,
   "id": "823143a1",
   "metadata": {},
   "outputs": [],
   "source": [
    "random_sample['ratings'].value_counts()"
   ]
  },
  {
   "cell_type": "code",
   "execution_count": null,
   "id": "14d4d55e",
   "metadata": {},
   "outputs": [],
   "source": [
    "random_sample.info()"
   ]
  },
  {
   "cell_type": "code",
   "execution_count": 1,
   "id": "74b0585c",
   "metadata": {},
   "outputs": [
    {
     "ename": "NameError",
     "evalue": "name 'random_sample' is not defined",
     "output_type": "error",
     "traceback": [
      "\u001b[1;31m---------------------------------------------------------------------------\u001b[0m",
      "\u001b[1;31mNameError\u001b[0m                                 Traceback (most recent call last)",
      "\u001b[1;32m~\\AppData\\Local\\Temp/ipykernel_17844/2881943328.py\u001b[0m in \u001b[0;36m<module>\u001b[1;34m\u001b[0m\n\u001b[1;32m----> 1\u001b[1;33m \u001b[0mrandom_sample\u001b[0m\u001b[1;33m.\u001b[0m\u001b[0mdrop\u001b[0m\u001b[1;33m(\u001b[0m\u001b[1;33m[\u001b[0m\u001b[1;34m'reviewerName'\u001b[0m\u001b[1;33m,\u001b[0m\u001b[1;34m'helpful'\u001b[0m\u001b[1;33m,\u001b[0m\u001b[1;34m'unixReviewTime'\u001b[0m\u001b[1;33m,\u001b[0m\u001b[1;34m'reviewTime'\u001b[0m\u001b[1;33m]\u001b[0m\u001b[1;33m,\u001b[0m \u001b[0maxis\u001b[0m\u001b[1;33m=\u001b[0m\u001b[1;36m1\u001b[0m\u001b[1;33m,\u001b[0m \u001b[0minplace\u001b[0m\u001b[1;33m=\u001b[0m \u001b[1;32mTrue\u001b[0m\u001b[1;33m)\u001b[0m\u001b[1;33m\u001b[0m\u001b[1;33m\u001b[0m\u001b[0m\n\u001b[0m",
      "\u001b[1;31mNameError\u001b[0m: name 'random_sample' is not defined"
     ]
    }
   ],
   "source": [
    "random_sample.drop(['reviewerName','helpful','unixReviewTime','reviewTime'], axis=1, inplace= True)"
   ]
  },
  {
   "cell_type": "code",
   "execution_count": 29,
   "id": "5c8ebe24",
   "metadata": {},
   "outputs": [
    {
     "data": {
      "text/plain": [
       "Index(['reviewerID', 'asin', 'reviewText', 'overall', 'summary', 'ratings'], dtype='object')"
      ]
     },
     "execution_count": 29,
     "metadata": {},
     "output_type": "execute_result"
    }
   ],
   "source": [
    "random_sample.columns"
   ]
  },
  {
   "cell_type": "markdown",
   "id": "4b66c5d4",
   "metadata": {},
   "source": [
    "## Data Cleanup"
   ]
  },
  {
   "cell_type": "code",
   "execution_count": 30,
   "id": "58529a79",
   "metadata": {},
   "outputs": [],
   "source": [
    "'''Lowercasing'''\n",
    "\n",
    "#random_sample['reviewText1'] = random_sample['reviewText'].apply(lambda x: [\"\".join(i.lower()) for i in x.split(' ')])\n",
    "\n",
    "random_sample['reviewText'] = random_sample['reviewText'].str.lower()"
   ]
  },
  {
   "cell_type": "code",
   "execution_count": 31,
   "id": "32cac07c",
   "metadata": {},
   "outputs": [
    {
     "data": {
      "text/html": [
       "<div>\n",
       "<style scoped>\n",
       "    .dataframe tbody tr th:only-of-type {\n",
       "        vertical-align: middle;\n",
       "    }\n",
       "\n",
       "    .dataframe tbody tr th {\n",
       "        vertical-align: top;\n",
       "    }\n",
       "\n",
       "    .dataframe thead th {\n",
       "        text-align: right;\n",
       "    }\n",
       "</style>\n",
       "<table border=\"1\" class=\"dataframe\">\n",
       "  <thead>\n",
       "    <tr style=\"text-align: right;\">\n",
       "      <th></th>\n",
       "      <th>reviewerID</th>\n",
       "      <th>asin</th>\n",
       "      <th>reviewText</th>\n",
       "      <th>overall</th>\n",
       "      <th>summary</th>\n",
       "      <th>ratings</th>\n",
       "    </tr>\n",
       "  </thead>\n",
       "  <tbody>\n",
       "    <tr>\n",
       "      <th>5239</th>\n",
       "      <td>A2P2ST28QAZMJI</td>\n",
       "      <td>B000OY4WDI</td>\n",
       "      <td>i bought this pedal new, hoping to get an elec...</td>\n",
       "      <td>1</td>\n",
       "      <td>The engineers at Boss should be ashamed of the...</td>\n",
       "      <td>Negative</td>\n",
       "    </tr>\n",
       "    <tr>\n",
       "      <th>5771</th>\n",
       "      <td>A1803TC7DCT5ZA</td>\n",
       "      <td>B000VJJQUU</td>\n",
       "      <td>be careful; i have a small recording studio, s...</td>\n",
       "      <td>1</td>\n",
       "      <td>Ordered three of these, EVERY SINGLE ONE broke...</td>\n",
       "      <td>Negative</td>\n",
       "    </tr>\n",
       "    <tr>\n",
       "      <th>8631</th>\n",
       "      <td>A1F4KCBVDP8S25</td>\n",
       "      <td>B004ISK48S</td>\n",
       "      <td>i purchased this amp locally and initially, i ...</td>\n",
       "      <td>1</td>\n",
       "      <td>Fizz and noise issues</td>\n",
       "      <td>Negative</td>\n",
       "    </tr>\n",
       "    <tr>\n",
       "      <th>5035</th>\n",
       "      <td>A35XRT4BW4I6UD</td>\n",
       "      <td>B000L7MNUM</td>\n",
       "      <td>not very bright. not very flexible. too big. c...</td>\n",
       "      <td>1</td>\n",
       "      <td>Bummer</td>\n",
       "      <td>Negative</td>\n",
       "    </tr>\n",
       "    <tr>\n",
       "      <th>7850</th>\n",
       "      <td>A3K9OQPCI8UJE</td>\n",
       "      <td>B003BFYDBS</td>\n",
       "      <td>one of the ball bearings designed to catch and...</td>\n",
       "      <td>1</td>\n",
       "      <td>Faulty Product</td>\n",
       "      <td>Negative</td>\n",
       "    </tr>\n",
       "    <tr>\n",
       "      <th>...</th>\n",
       "      <td>...</td>\n",
       "      <td>...</td>\n",
       "      <td>...</td>\n",
       "      <td>...</td>\n",
       "      <td>...</td>\n",
       "      <td>...</td>\n",
       "    </tr>\n",
       "    <tr>\n",
       "      <th>1360</th>\n",
       "      <td>A6GXP9ESXIH7O</td>\n",
       "      <td>B0002E1G5C</td>\n",
       "      <td>this winder and cutter...winds and cuts fine.....</td>\n",
       "      <td>3</td>\n",
       "      <td>Good but not excellent...</td>\n",
       "      <td>Neutral</td>\n",
       "    </tr>\n",
       "    <tr>\n",
       "      <th>9067</th>\n",
       "      <td>A3LNNEYLGGCO25</td>\n",
       "      <td>B005CX4GLE</td>\n",
       "      <td>i've got three of these to hold an acoustic, a...</td>\n",
       "      <td>3</td>\n",
       "      <td>Ok but a bit flimsier than expected.</td>\n",
       "      <td>Neutral</td>\n",
       "    </tr>\n",
       "    <tr>\n",
       "      <th>506</th>\n",
       "      <td>A24JUT24W1K3CV</td>\n",
       "      <td>B0002CZVWS</td>\n",
       "      <td>although this capo is marked as correct for a ...</td>\n",
       "      <td>3</td>\n",
       "      <td>Not Enough Pressure For A Mandolin</td>\n",
       "      <td>Neutral</td>\n",
       "    </tr>\n",
       "    <tr>\n",
       "      <th>9212</th>\n",
       "      <td>ADOSJR623FDF1</td>\n",
       "      <td>B005GZ86ZA</td>\n",
       "      <td>while this hanger is not unattractive, and is ...</td>\n",
       "      <td>3</td>\n",
       "      <td>Stands out</td>\n",
       "      <td>Neutral</td>\n",
       "    </tr>\n",
       "    <tr>\n",
       "      <th>3684</th>\n",
       "      <td>AMNTZU1YQN1TH</td>\n",
       "      <td>B0006NDF8A</td>\n",
       "      <td>you get what you pay for. this is a no-nonsens...</td>\n",
       "      <td>3</td>\n",
       "      <td>Does what it is supposed to but dont expect th...</td>\n",
       "      <td>Neutral</td>\n",
       "    </tr>\n",
       "  </tbody>\n",
       "</table>\n",
       "<p>500 rows × 6 columns</p>\n",
       "</div>"
      ],
      "text/plain": [
       "          reviewerID        asin  \\\n",
       "5239  A2P2ST28QAZMJI  B000OY4WDI   \n",
       "5771  A1803TC7DCT5ZA  B000VJJQUU   \n",
       "8631  A1F4KCBVDP8S25  B004ISK48S   \n",
       "5035  A35XRT4BW4I6UD  B000L7MNUM   \n",
       "7850   A3K9OQPCI8UJE  B003BFYDBS   \n",
       "...              ...         ...   \n",
       "1360   A6GXP9ESXIH7O  B0002E1G5C   \n",
       "9067  A3LNNEYLGGCO25  B005CX4GLE   \n",
       "506   A24JUT24W1K3CV  B0002CZVWS   \n",
       "9212   ADOSJR623FDF1  B005GZ86ZA   \n",
       "3684   AMNTZU1YQN1TH  B0006NDF8A   \n",
       "\n",
       "                                             reviewText  overall  \\\n",
       "5239  i bought this pedal new, hoping to get an elec...        1   \n",
       "5771  be careful; i have a small recording studio, s...        1   \n",
       "8631  i purchased this amp locally and initially, i ...        1   \n",
       "5035  not very bright. not very flexible. too big. c...        1   \n",
       "7850  one of the ball bearings designed to catch and...        1   \n",
       "...                                                 ...      ...   \n",
       "1360  this winder and cutter...winds and cuts fine.....        3   \n",
       "9067  i've got three of these to hold an acoustic, a...        3   \n",
       "506   although this capo is marked as correct for a ...        3   \n",
       "9212  while this hanger is not unattractive, and is ...        3   \n",
       "3684  you get what you pay for. this is a no-nonsens...        3   \n",
       "\n",
       "                                                summary   ratings  \n",
       "5239  The engineers at Boss should be ashamed of the...  Negative  \n",
       "5771  Ordered three of these, EVERY SINGLE ONE broke...  Negative  \n",
       "8631                              Fizz and noise issues  Negative  \n",
       "5035                                             Bummer  Negative  \n",
       "7850                                     Faulty Product  Negative  \n",
       "...                                                 ...       ...  \n",
       "1360                          Good but not excellent...   Neutral  \n",
       "9067               Ok but a bit flimsier than expected.   Neutral  \n",
       "506                  Not Enough Pressure For A Mandolin   Neutral  \n",
       "9212                                         Stands out   Neutral  \n",
       "3684  Does what it is supposed to but dont expect th...   Neutral  \n",
       "\n",
       "[500 rows x 6 columns]"
      ]
     },
     "execution_count": 31,
     "metadata": {},
     "output_type": "execute_result"
    }
   ],
   "source": [
    "random_sample.head(500)"
   ]
  },
  {
   "cell_type": "code",
   "execution_count": 32,
   "id": "02066fc3",
   "metadata": {},
   "outputs": [],
   "source": [
    "'''Remove puncutations'''\n",
    "\n",
    "random_sample['reviewText'] = random_sample['reviewText'].str.replace('[^\\w\\s]','', regex=True)"
   ]
  },
  {
   "cell_type": "code",
   "execution_count": 33,
   "id": "d52ac9d7",
   "metadata": {},
   "outputs": [
    {
     "data": {
      "text/html": [
       "<div>\n",
       "<style scoped>\n",
       "    .dataframe tbody tr th:only-of-type {\n",
       "        vertical-align: middle;\n",
       "    }\n",
       "\n",
       "    .dataframe tbody tr th {\n",
       "        vertical-align: top;\n",
       "    }\n",
       "\n",
       "    .dataframe thead th {\n",
       "        text-align: right;\n",
       "    }\n",
       "</style>\n",
       "<table border=\"1\" class=\"dataframe\">\n",
       "  <thead>\n",
       "    <tr style=\"text-align: right;\">\n",
       "      <th></th>\n",
       "      <th>reviewerID</th>\n",
       "      <th>asin</th>\n",
       "      <th>reviewText</th>\n",
       "      <th>overall</th>\n",
       "      <th>summary</th>\n",
       "      <th>ratings</th>\n",
       "    </tr>\n",
       "  </thead>\n",
       "  <tbody>\n",
       "    <tr>\n",
       "      <th>5239</th>\n",
       "      <td>A2P2ST28QAZMJI</td>\n",
       "      <td>B000OY4WDI</td>\n",
       "      <td>i bought this pedal new hoping to get an elect...</td>\n",
       "      <td>1</td>\n",
       "      <td>The engineers at Boss should be ashamed of the...</td>\n",
       "      <td>Negative</td>\n",
       "    </tr>\n",
       "    <tr>\n",
       "      <th>5771</th>\n",
       "      <td>A1803TC7DCT5ZA</td>\n",
       "      <td>B000VJJQUU</td>\n",
       "      <td>be careful i have a small recording studio so ...</td>\n",
       "      <td>1</td>\n",
       "      <td>Ordered three of these, EVERY SINGLE ONE broke...</td>\n",
       "      <td>Negative</td>\n",
       "    </tr>\n",
       "    <tr>\n",
       "      <th>8631</th>\n",
       "      <td>A1F4KCBVDP8S25</td>\n",
       "      <td>B004ISK48S</td>\n",
       "      <td>i purchased this amp locally and initially i t...</td>\n",
       "      <td>1</td>\n",
       "      <td>Fizz and noise issues</td>\n",
       "      <td>Negative</td>\n",
       "    </tr>\n",
       "    <tr>\n",
       "      <th>5035</th>\n",
       "      <td>A35XRT4BW4I6UD</td>\n",
       "      <td>B000L7MNUM</td>\n",
       "      <td>not very bright not very flexible too big clun...</td>\n",
       "      <td>1</td>\n",
       "      <td>Bummer</td>\n",
       "      <td>Negative</td>\n",
       "    </tr>\n",
       "    <tr>\n",
       "      <th>7850</th>\n",
       "      <td>A3K9OQPCI8UJE</td>\n",
       "      <td>B003BFYDBS</td>\n",
       "      <td>one of the ball bearings designed to catch and...</td>\n",
       "      <td>1</td>\n",
       "      <td>Faulty Product</td>\n",
       "      <td>Negative</td>\n",
       "    </tr>\n",
       "    <tr>\n",
       "      <th>4333</th>\n",
       "      <td>A3I9IGMS9GHW8J</td>\n",
       "      <td>B000BYPJ1U</td>\n",
       "      <td>it doesnt seem to work i think maybe mine was ...</td>\n",
       "      <td>1</td>\n",
       "      <td>I don't get it.</td>\n",
       "      <td>Negative</td>\n",
       "    </tr>\n",
       "    <tr>\n",
       "      <th>2325</th>\n",
       "      <td>A1RXH9W4TZB2EF</td>\n",
       "      <td>B0002GLDQM</td>\n",
       "      <td>i use clayton 126mm picks a heavy pick but cer...</td>\n",
       "      <td>1</td>\n",
       "      <td>Sorry, but...</td>\n",
       "      <td>Negative</td>\n",
       "    </tr>\n",
       "    <tr>\n",
       "      <th>3160</th>\n",
       "      <td>A20TFY5J3WNJU2</td>\n",
       "      <td>B0002KZEMC</td>\n",
       "      <td>this pickguard was used it not only was missin...</td>\n",
       "      <td>1</td>\n",
       "      <td>I payed for a new pickguard but got a used one.</td>\n",
       "      <td>Negative</td>\n",
       "    </tr>\n",
       "    <tr>\n",
       "      <th>7996</th>\n",
       "      <td>A33PUQETQAM8XT</td>\n",
       "      <td>B003K16N0C</td>\n",
       "      <td>i play harp with some some that i perform i fo...</td>\n",
       "      <td>1</td>\n",
       "      <td>Notes off Hard to play</td>\n",
       "      <td>Negative</td>\n",
       "    </tr>\n",
       "    <tr>\n",
       "      <th>223</th>\n",
       "      <td>A3AOB0VF6H0IF4</td>\n",
       "      <td>B000165DSM</td>\n",
       "      <td>received it in time standard blister packaging...</td>\n",
       "      <td>1</td>\n",
       "      <td>DIED after 45 days of use</td>\n",
       "      <td>Negative</td>\n",
       "    </tr>\n",
       "  </tbody>\n",
       "</table>\n",
       "</div>"
      ],
      "text/plain": [
       "          reviewerID        asin  \\\n",
       "5239  A2P2ST28QAZMJI  B000OY4WDI   \n",
       "5771  A1803TC7DCT5ZA  B000VJJQUU   \n",
       "8631  A1F4KCBVDP8S25  B004ISK48S   \n",
       "5035  A35XRT4BW4I6UD  B000L7MNUM   \n",
       "7850   A3K9OQPCI8UJE  B003BFYDBS   \n",
       "4333  A3I9IGMS9GHW8J  B000BYPJ1U   \n",
       "2325  A1RXH9W4TZB2EF  B0002GLDQM   \n",
       "3160  A20TFY5J3WNJU2  B0002KZEMC   \n",
       "7996  A33PUQETQAM8XT  B003K16N0C   \n",
       "223   A3AOB0VF6H0IF4  B000165DSM   \n",
       "\n",
       "                                             reviewText  overall  \\\n",
       "5239  i bought this pedal new hoping to get an elect...        1   \n",
       "5771  be careful i have a small recording studio so ...        1   \n",
       "8631  i purchased this amp locally and initially i t...        1   \n",
       "5035  not very bright not very flexible too big clun...        1   \n",
       "7850  one of the ball bearings designed to catch and...        1   \n",
       "4333  it doesnt seem to work i think maybe mine was ...        1   \n",
       "2325  i use clayton 126mm picks a heavy pick but cer...        1   \n",
       "3160  this pickguard was used it not only was missin...        1   \n",
       "7996  i play harp with some some that i perform i fo...        1   \n",
       "223   received it in time standard blister packaging...        1   \n",
       "\n",
       "                                                summary   ratings  \n",
       "5239  The engineers at Boss should be ashamed of the...  Negative  \n",
       "5771  Ordered three of these, EVERY SINGLE ONE broke...  Negative  \n",
       "8631                              Fizz and noise issues  Negative  \n",
       "5035                                             Bummer  Negative  \n",
       "7850                                     Faulty Product  Negative  \n",
       "4333                                    I don't get it.  Negative  \n",
       "2325                                      Sorry, but...  Negative  \n",
       "3160    I payed for a new pickguard but got a used one.  Negative  \n",
       "7996                             Notes off Hard to play  Negative  \n",
       "223                           DIED after 45 days of use  Negative  "
      ]
     },
     "execution_count": 33,
     "metadata": {},
     "output_type": "execute_result"
    }
   ],
   "source": [
    "random_sample.head(10)"
   ]
  },
  {
   "cell_type": "code",
   "execution_count": 34,
   "id": "587157e6",
   "metadata": {},
   "outputs": [
    {
     "name": "stderr",
     "output_type": "stream",
     "text": [
      "<ipython-input-34-1b81a8bb97f6>:1: FutureWarning: Passing a negative integer is deprecated in version 1.0 and will not be supported in future version. Instead, use None to not limit the column width.\n",
      "  pd.set_option('display.max_colwidth', -1)\n"
     ]
    },
    {
     "data": {
      "text/html": [
       "<div>\n",
       "<style scoped>\n",
       "    .dataframe tbody tr th:only-of-type {\n",
       "        vertical-align: middle;\n",
       "    }\n",
       "\n",
       "    .dataframe tbody tr th {\n",
       "        vertical-align: top;\n",
       "    }\n",
       "\n",
       "    .dataframe thead th {\n",
       "        text-align: right;\n",
       "    }\n",
       "</style>\n",
       "<table border=\"1\" class=\"dataframe\">\n",
       "  <thead>\n",
       "    <tr style=\"text-align: right;\">\n",
       "      <th></th>\n",
       "      <th>reviewText</th>\n",
       "    </tr>\n",
       "  </thead>\n",
       "  <tbody>\n",
       "    <tr>\n",
       "      <th>5239</th>\n",
       "      <td>i bought this pedal new hoping to get an electric solid body guitar to sound somewhat like an acoustic guitar on stage  i knew going in that it would not sound like a martin d28 but i thought it would be good enough to play a couple of acoustic parts without having to switch guitarsimagine my profound disappointmentreally boss this is by far the worst pedal i have ever used of yours  this thing has a terrible hiss when you turn the top control higher than about 9 oclock  at first i thought i must have a defective unit but then i started reading reviews online  seems like it is part of the design its too bad because one can hear some promise in the faux acoustic tones hidden beneath a wall of fizz totally unusable as far as im concerned by the way i tested it direct to a pa as well as into a guitar amp with a single coil guitar strat</td>\n",
       "    </tr>\n",
       "    <tr>\n",
       "      <th>5771</th>\n",
       "      <td>be careful i have a small recording studio so we put our cables through a lot and these guys just dont last they were fine for the first few months but then they started to die like a murder mystery seriously one after another they would just go for no apparent reasonfine one second and then it would just go horribly staticky i actually had two blow at one time and thought my pa was shot thankfully it was just these cables not good spend a little extra on another brand these have been my favoritegls audio 25ft cable cords</td>\n",
       "    </tr>\n",
       "    <tr>\n",
       "      <th>8631</th>\n",
       "      <td>i purchased this amp locally and initially i thought it was pretty cool as it was my first modeling amp lots of potential for a limitless variety of sounds this was my first fender amp as wellthe presets were neat and all but when i played around with some of the standard models just the amp model no effects just to see how its clean sound was the amp just hissed as if i had the volume cranked with a distortion pedal engaged at max the master volume was at 2 and no effects were turned on ive never heard a clean channel with so much noise behind it even when there was no guitar plugged in all i could hear while playing was the underlying hiss coming through the notes very distracting and it drove me nuts this isnt a ground loop issue my other amps sound just fine at bedroom volumes and beyond its clearly a defect with this product dirty presets with lots of gain and extra volume sound even worse again even when nothing is plugged in and at low master volume youd think i was running a few super high gain stomp boxes with a red hot single coil but nothing was plugged in and all i get is staticyhiss at low levels wtfthe next issue is the weird fizz sound that was especially noticeable on the low e after striking a string instead of a clean note theres a weird fizzy digital artifact like sound that surrounds the note and fades as the string stops moving it almost sounds like cymbals crashing on a poorly authored mp3 file at a low bit rate and frequency whole chords break down and decay in this fizzy envelope and really makes this thing unplayablethe weird thing is neither one of these problems arose with head phones plugged in or when this was connected to my computed via either usb or the line in but im not going to be stuck playing a 100 watt amp through my pc or cans i got the iii instead of the ii because of the power behind it and the touted 12 celestion speakerread the many reviews online or forum posts on many of the guitaramp related websites theres a 65 page forum post on the fender support site that is quite interesting and youll find that these amps are having issues apparently the mustang i and ii dont have these issues and the firmware update did nothing to correct my amp is this a hardware issue software issue speaker issue there is speculation that the lcd screen which is not present on the i or ii may be causing problems but no one seems to know for sure and fender doesnt seem to caredefinitely try this before you buy it you may get an amp that doesnt have these problems you may not notice the sounds or you may not even care let your ears tell you what sounds goodthis amp has a lot of potential for great sounds and it would have been nice to have faithful modeling of some great vintage amps but in my opinion technical issues have made this amp sound like complete garbage i am disappointed that fender hasnt yet correct what ever is wrong some folks claim that fender reps say that know what is wrong but im not taking that as a fact but they have acknowledged that there is something wrongwhatever i took this back after a few days of playing with it trying to eliminate the junk sounds without success the builtin noise gate helps a little but sucks tone and i picked up a 100 watt marshall instead guess what the clean channel has zero hum or buzz even when cranked how about that even when i engage a dirt box on one of the dirty channels there is minimal noiseill knock fender for not correcting this issue regardless of what it is and what caused it but they do have some other nice amps that id like to try but before i buy another fender amp ill take it for a test drive and i suggest you do the same before picking up one of these turds</td>\n",
       "    </tr>\n",
       "    <tr>\n",
       "      <th>5035</th>\n",
       "      <td>not very bright not very flexible too big clunky i really dont like it i wish i had went in a different direction</td>\n",
       "    </tr>\n",
       "    <tr>\n",
       "      <th>7850</th>\n",
       "      <td>one of the ball bearings designed to catch and lock the side mounted to the strap dislodged and my very expensive fender custom shop telecaster fell flat on the ground</td>\n",
       "    </tr>\n",
       "    <tr>\n",
       "      <th>4333</th>\n",
       "      <td>it doesnt seem to work i think maybe mine was damaged or something because it doesnt seem to absorb any water</td>\n",
       "    </tr>\n",
       "    <tr>\n",
       "      <th>2325</th>\n",
       "      <td>i use clayton 126mm picks a heavy pick but certainly not oversized my picks dont fit if i shove them in i cant get them out also this thing is huge for the back of the neck</td>\n",
       "    </tr>\n",
       "    <tr>\n",
       "      <th>3160</th>\n",
       "      <td>this pickguard was used it not only was missing the protective plastic but it actually was scratched from being on a guitar before</td>\n",
       "    </tr>\n",
       "    <tr>\n",
       "      <th>7996</th>\n",
       "      <td>i play harp with some some that i perform i found that all of these harmonicas the notes are off and its hard to play i have g blues harp that i compared the g harp to and the notes were a little off the c harp was terrible that said the only thing i like about this order is the case i going to see if i can return them for store credit</td>\n",
       "    </tr>\n",
       "    <tr>\n",
       "      <th>223</th>\n",
       "      <td>received it in time standard blister packaging but the cable stopped working after 45 days since i was out of 30 days return time sent an email to the manufacturer but no response till today</td>\n",
       "    </tr>\n",
       "  </tbody>\n",
       "</table>\n",
       "</div>"
      ],
      "text/plain": [
       "                                                                                                                                                                                                                                                                                                                                                                                                                                                                                                                                                                                                                                                                                                                                                                                                                                                                                                                                                                                                                                                                                                                                                                                                                                                                                                                                                                                                                                                                                                                                                                                                                                                                                                                                                                                                                                                                                                                                                                                                                                                                                                                                                                                                                                                                                                                                                                                                                                                                                                                                                                                                                                                                                                                                                                                                                                                                                                                                                                                                                                                                                                                                                                                                                                                                                                                                                                                                                                                                                                                                                                                                                                                                                                                                                                                                                                                      reviewText\n",
       "5239  i bought this pedal new hoping to get an electric solid body guitar to sound somewhat like an acoustic guitar on stage  i knew going in that it would not sound like a martin d28 but i thought it would be good enough to play a couple of acoustic parts without having to switch guitarsimagine my profound disappointmentreally boss this is by far the worst pedal i have ever used of yours  this thing has a terrible hiss when you turn the top control higher than about 9 oclock  at first i thought i must have a defective unit but then i started reading reviews online  seems like it is part of the design its too bad because one can hear some promise in the faux acoustic tones hidden beneath a wall of fizz totally unusable as far as im concerned by the way i tested it direct to a pa as well as into a guitar amp with a single coil guitar strat                                                                                                                                                                                                                                                                                                                                                                                                                                                                                                                                                                                                                                                                                                                                                                                                                                                                                                                                                                                                                                                                                                                                                                                                                                                                                                                                                                                                                                                                                                                                                                                                                                                                                                                                                                                                                                                                                                                                                                                                                                                                                                                                                                                                                                                                                                                                                                                                                                                                                                                                                                                                                                                                                                                                                                                                                                                                                                                                                                              \n",
       "5771  be careful i have a small recording studio so we put our cables through a lot and these guys just dont last they were fine for the first few months but then they started to die like a murder mystery seriously one after another they would just go for no apparent reasonfine one second and then it would just go horribly staticky i actually had two blow at one time and thought my pa was shot thankfully it was just these cables not good spend a little extra on another brand these have been my favoritegls audio 25ft cable cords                                                                                                                                                                                                                                                                                                                                                                                                                                                                                                                                                                                                                                                                                                                                                                                                                                                                                                                                                                                                                                                                                                                                                                                                                                                                                                                                                                                                                                                                                                                                                                                                                                                                                                                                                                                                                                                                                                                                                                                                                                                                                                                                                                                                                                                                                                                                                                                                                                                                                                                                                                                                                                                                                                                                                                                                                                                                                                                                                                                                                                                                                                                                                                                                                                                                                                           \n",
       "8631  i purchased this amp locally and initially i thought it was pretty cool as it was my first modeling amp lots of potential for a limitless variety of sounds this was my first fender amp as wellthe presets were neat and all but when i played around with some of the standard models just the amp model no effects just to see how its clean sound was the amp just hissed as if i had the volume cranked with a distortion pedal engaged at max the master volume was at 2 and no effects were turned on ive never heard a clean channel with so much noise behind it even when there was no guitar plugged in all i could hear while playing was the underlying hiss coming through the notes very distracting and it drove me nuts this isnt a ground loop issue my other amps sound just fine at bedroom volumes and beyond its clearly a defect with this product dirty presets with lots of gain and extra volume sound even worse again even when nothing is plugged in and at low master volume youd think i was running a few super high gain stomp boxes with a red hot single coil but nothing was plugged in and all i get is staticyhiss at low levels wtfthe next issue is the weird fizz sound that was especially noticeable on the low e after striking a string instead of a clean note theres a weird fizzy digital artifact like sound that surrounds the note and fades as the string stops moving it almost sounds like cymbals crashing on a poorly authored mp3 file at a low bit rate and frequency whole chords break down and decay in this fizzy envelope and really makes this thing unplayablethe weird thing is neither one of these problems arose with head phones plugged in or when this was connected to my computed via either usb or the line in but im not going to be stuck playing a 100 watt amp through my pc or cans i got the iii instead of the ii because of the power behind it and the touted 12 celestion speakerread the many reviews online or forum posts on many of the guitaramp related websites theres a 65 page forum post on the fender support site that is quite interesting and youll find that these amps are having issues apparently the mustang i and ii dont have these issues and the firmware update did nothing to correct my amp is this a hardware issue software issue speaker issue there is speculation that the lcd screen which is not present on the i or ii may be causing problems but no one seems to know for sure and fender doesnt seem to caredefinitely try this before you buy it you may get an amp that doesnt have these problems you may not notice the sounds or you may not even care let your ears tell you what sounds goodthis amp has a lot of potential for great sounds and it would have been nice to have faithful modeling of some great vintage amps but in my opinion technical issues have made this amp sound like complete garbage i am disappointed that fender hasnt yet correct what ever is wrong some folks claim that fender reps say that know what is wrong but im not taking that as a fact but they have acknowledged that there is something wrongwhatever i took this back after a few days of playing with it trying to eliminate the junk sounds without success the builtin noise gate helps a little but sucks tone and i picked up a 100 watt marshall instead guess what the clean channel has zero hum or buzz even when cranked how about that even when i engage a dirt box on one of the dirty channels there is minimal noiseill knock fender for not correcting this issue regardless of what it is and what caused it but they do have some other nice amps that id like to try but before i buy another fender amp ill take it for a test drive and i suggest you do the same before picking up one of these turds\n",
       "5035  not very bright not very flexible too big clunky i really dont like it i wish i had went in a different direction                                                                                                                                                                                                                                                                                                                                                                                                                                                                                                                                                                                                                                                                                                                                                                                                                                                                                                                                                                                                                                                                                                                                                                                                                                                                                                                                                                                                                                                                                                                                                                                                                                                                                                                                                                                                                                                                                                                                                                                                                                                                                                                                                                                                                                                                                                                                                                                                                                                                                                                                                                                                                                                                                                                                                                                                                                                                                                                                                                                                                                                                                                                                                                                                                                                                                                                                                                                                                                                                                                                                                                                                                                                                                                                                         \n",
       "7850  one of the ball bearings designed to catch and lock the side mounted to the strap dislodged and my very expensive fender custom shop telecaster fell flat on the ground                                                                                                                                                                                                                                                                                                                                                                                                                                                                                                                                                                                                                                                                                                                                                                                                                                                                                                                                                                                                                                                                                                                                                                                                                                                                                                                                                                                                                                                                                                                                                                                                                                                                                                                                                                                                                                                                                                                                                                                                                                                                                                                                                                                                                                                                                                                                                                                                                                                                                                                                                                                                                                                                                                                                                                                                                                                                                                                                                                                                                                                                                                                                                                                                                                                                                                                                                                                                                                                                                                                                                                                                                                                                                   \n",
       "4333  it doesnt seem to work i think maybe mine was damaged or something because it doesnt seem to absorb any water                                                                                                                                                                                                                                                                                                                                                                                                                                                                                                                                                                                                                                                                                                                                                                                                                                                                                                                                                                                                                                                                                                                                                                                                                                                                                                                                                                                                                                                                                                                                                                                                                                                                                                                                                                                                                                                                                                                                                                                                                                                                                                                                                                                                                                                                                                                                                                                                                                                                                                                                                                                                                                                                                                                                                                                                                                                                                                                                                                                                                                                                                                                                                                                                                                                                                                                                                                                                                                                                                                                                                                                                                                                                                                                                             \n",
       "2325  i use clayton 126mm picks a heavy pick but certainly not oversized my picks dont fit if i shove them in i cant get them out also this thing is huge for the back of the neck                                                                                                                                                                                                                                                                                                                                                                                                                                                                                                                                                                                                                                                                                                                                                                                                                                                                                                                                                                                                                                                                                                                                                                                                                                                                                                                                                                                                                                                                                                                                                                                                                                                                                                                                                                                                                                                                                                                                                                                                                                                                                                                                                                                                                                                                                                                                                                                                                                                                                                                                                                                                                                                                                                                                                                                                                                                                                                                                                                                                                                                                                                                                                                                                                                                                                                                                                                                                                                                                                                                                                                                                                                                                              \n",
       "3160  this pickguard was used it not only was missing the protective plastic but it actually was scratched from being on a guitar before                                                                                                                                                                                                                                                                                                                                                                                                                                                                                                                                                                                                                                                                                                                                                                                                                                                                                                                                                                                                                                                                                                                                                                                                                                                                                                                                                                                                                                                                                                                                                                                                                                                                                                                                                                                                                                                                                                                                                                                                                                                                                                                                                                                                                                                                                                                                                                                                                                                                                                                                                                                                                                                                                                                                                                                                                                                                                                                                                                                                                                                                                                                                                                                                                                                                                                                                                                                                                                                                                                                                                                                                                                                                                                                        \n",
       "7996  i play harp with some some that i perform i found that all of these harmonicas the notes are off and its hard to play i have g blues harp that i compared the g harp to and the notes were a little off the c harp was terrible that said the only thing i like about this order is the case i going to see if i can return them for store credit                                                                                                                                                                                                                                                                                                                                                                                                                                                                                                                                                                                                                                                                                                                                                                                                                                                                                                                                                                                                                                                                                                                                                                                                                                                                                                                                                                                                                                                                                                                                                                                                                                                                                                                                                                                                                                                                                                                                                                                                                                                                                                                                                                                                                                                                                                                                                                                                                                                                                                                                                                                                                                                                                                                                                                                                                                                                                                                                                                                                                                                                                                                                                                                                                                                                                                                                                                                                                                                                                                         \n",
       "223   received it in time standard blister packaging but the cable stopped working after 45 days since i was out of 30 days return time sent an email to the manufacturer but no response till today                                                                                                                                                                                                                                                                                                                                                                                                                                                                                                                                                                                                                                                                                                                                                                                                                                                                                                                                                                                                                                                                                                                                                                                                                                                                                                                                                                                                                                                                                                                                                                                                                                                                                                                                                                                                                                                                                                                                                                                                                                                                                                                                                                                                                                                                                                                                                                                                                                                                                                                                                                                                                                                                                                                                                                                                                                                                                                                                                                                                                                                                                                                                                                                                                                                                                                                                                                                                                                                                                                                                                                                                                                                            "
      ]
     },
     "execution_count": 34,
     "metadata": {},
     "output_type": "execute_result"
    }
   ],
   "source": [
    "pd.set_option('display.max_colwidth', -1)\n",
    "pd.set_option('display.max_rows', 50)\n",
    "\n",
    "random_sample[['reviewText']].head(10)"
   ]
  },
  {
   "cell_type": "code",
   "execution_count": 35,
   "id": "0f64a16d",
   "metadata": {},
   "outputs": [],
   "source": [
    "'''Lemmitization'''\n",
    "\n",
    "from nltk.stem import WordNetLemmatizer\n",
    "lemmatizer = WordNetLemmatizer()\n"
   ]
  },
  {
   "cell_type": "code",
   "execution_count": 36,
   "id": "7a4615fa",
   "metadata": {},
   "outputs": [],
   "source": [
    "random_sample['reviewText'] = random_sample['reviewText'].apply(lambda x : ' '.join([lemmatizer.lemmatize(word) for word in x.split()]))\n"
   ]
  },
  {
   "cell_type": "code",
   "execution_count": 37,
   "id": "e354a7e4",
   "metadata": {},
   "outputs": [
    {
     "data": {
      "text/html": [
       "<div>\n",
       "<style scoped>\n",
       "    .dataframe tbody tr th:only-of-type {\n",
       "        vertical-align: middle;\n",
       "    }\n",
       "\n",
       "    .dataframe tbody tr th {\n",
       "        vertical-align: top;\n",
       "    }\n",
       "\n",
       "    .dataframe thead th {\n",
       "        text-align: right;\n",
       "    }\n",
       "</style>\n",
       "<table border=\"1\" class=\"dataframe\">\n",
       "  <thead>\n",
       "    <tr style=\"text-align: right;\">\n",
       "      <th></th>\n",
       "      <th>reviewerID</th>\n",
       "      <th>asin</th>\n",
       "      <th>reviewText</th>\n",
       "      <th>overall</th>\n",
       "      <th>summary</th>\n",
       "      <th>ratings</th>\n",
       "    </tr>\n",
       "  </thead>\n",
       "  <tbody>\n",
       "    <tr>\n",
       "      <th>5239</th>\n",
       "      <td>A2P2ST28QAZMJI</td>\n",
       "      <td>B000OY4WDI</td>\n",
       "      <td>i bought this pedal new hoping to get an electric solid body guitar to sound somewhat like an acoustic guitar on stage i knew going in that it would not sound like a martin d28 but i thought it would be good enough to play a couple of acoustic part without having to switch guitarsimagine my profound disappointmentreally bos this is by far the worst pedal i have ever used of yours this thing ha a terrible hiss when you turn the top control higher than about 9 oclock at first i thought i must have a defective unit but then i started reading review online seems like it is part of the design it too bad because one can hear some promise in the faux acoustic tone hidden beneath a wall of fizz totally unusable a far a im concerned by the way i tested it direct to a pa a well a into a guitar amp with a single coil guitar strat</td>\n",
       "      <td>1</td>\n",
       "      <td>The engineers at Boss should be ashamed of themselves</td>\n",
       "      <td>Negative</td>\n",
       "    </tr>\n",
       "    <tr>\n",
       "      <th>5771</th>\n",
       "      <td>A1803TC7DCT5ZA</td>\n",
       "      <td>B000VJJQUU</td>\n",
       "      <td>be careful i have a small recording studio so we put our cable through a lot and these guy just dont last they were fine for the first few month but then they started to die like a murder mystery seriously one after another they would just go for no apparent reasonfine one second and then it would just go horribly staticky i actually had two blow at one time and thought my pa wa shot thankfully it wa just these cable not good spend a little extra on another brand these have been my favoritegls audio 25ft cable cord</td>\n",
       "      <td>1</td>\n",
       "      <td>Ordered three of these, EVERY SINGLE ONE broke within the first year</td>\n",
       "      <td>Negative</td>\n",
       "    </tr>\n",
       "    <tr>\n",
       "      <th>8631</th>\n",
       "      <td>A1F4KCBVDP8S25</td>\n",
       "      <td>B004ISK48S</td>\n",
       "      <td>i purchased this amp locally and initially i thought it wa pretty cool a it wa my first modeling amp lot of potential for a limitless variety of sound this wa my first fender amp a wellthe presets were neat and all but when i played around with some of the standard model just the amp model no effect just to see how it clean sound wa the amp just hissed a if i had the volume cranked with a distortion pedal engaged at max the master volume wa at 2 and no effect were turned on ive never heard a clean channel with so much noise behind it even when there wa no guitar plugged in all i could hear while playing wa the underlying hiss coming through the note very distracting and it drove me nut this isnt a ground loop issue my other amp sound just fine at bedroom volume and beyond it clearly a defect with this product dirty presets with lot of gain and extra volume sound even worse again even when nothing is plugged in and at low master volume youd think i wa running a few super high gain stomp box with a red hot single coil but nothing wa plugged in and all i get is staticyhiss at low level wtfthe next issue is the weird fizz sound that wa especially noticeable on the low e after striking a string instead of a clean note there a weird fizzy digital artifact like sound that surround the note and fade a the string stop moving it almost sound like cymbal crashing on a poorly authored mp3 file at a low bit rate and frequency whole chord break down and decay in this fizzy envelope and really make this thing unplayablethe weird thing is neither one of these problem arose with head phone plugged in or when this wa connected to my computed via either usb or the line in but im not going to be stuck playing a 100 watt amp through my pc or can i got the iii instead of the ii because of the power behind it and the touted 12 celestion speakerread the many review online or forum post on many of the guitaramp related website there a 65 page forum post on the fender support site that is quite interesting and youll find that these amp are having issue apparently the mustang i and ii dont have these issue and the firmware update did nothing to correct my amp is this a hardware issue software issue speaker issue there is speculation that the lcd screen which is not present on the i or ii may be causing problem but no one seems to know for sure and fender doesnt seem to caredefinitely try this before you buy it you may get an amp that doesnt have these problem you may not notice the sound or you may not even care let your ear tell you what sound goodthis amp ha a lot of potential for great sound and it would have been nice to have faithful modeling of some great vintage amp but in my opinion technical issue have made this amp sound like complete garbage i am disappointed that fender hasnt yet correct what ever is wrong some folk claim that fender rep say that know what is wrong but im not taking that a a fact but they have acknowledged that there is something wrongwhatever i took this back after a few day of playing with it trying to eliminate the junk sound without success the builtin noise gate help a little but suck tone and i picked up a 100 watt marshall instead guess what the clean channel ha zero hum or buzz even when cranked how about that even when i engage a dirt box on one of the dirty channel there is minimal noiseill knock fender for not correcting this issue regardless of what it is and what caused it but they do have some other nice amp that id like to try but before i buy another fender amp ill take it for a test drive and i suggest you do the same before picking up one of these turd</td>\n",
       "      <td>1</td>\n",
       "      <td>Fizz and noise issues</td>\n",
       "      <td>Negative</td>\n",
       "    </tr>\n",
       "    <tr>\n",
       "      <th>5035</th>\n",
       "      <td>A35XRT4BW4I6UD</td>\n",
       "      <td>B000L7MNUM</td>\n",
       "      <td>not very bright not very flexible too big clunky i really dont like it i wish i had went in a different direction</td>\n",
       "      <td>1</td>\n",
       "      <td>Bummer</td>\n",
       "      <td>Negative</td>\n",
       "    </tr>\n",
       "    <tr>\n",
       "      <th>7850</th>\n",
       "      <td>A3K9OQPCI8UJE</td>\n",
       "      <td>B003BFYDBS</td>\n",
       "      <td>one of the ball bearing designed to catch and lock the side mounted to the strap dislodged and my very expensive fender custom shop telecaster fell flat on the ground</td>\n",
       "      <td>1</td>\n",
       "      <td>Faulty Product</td>\n",
       "      <td>Negative</td>\n",
       "    </tr>\n",
       "  </tbody>\n",
       "</table>\n",
       "</div>"
      ],
      "text/plain": [
       "          reviewerID        asin  \\\n",
       "5239  A2P2ST28QAZMJI  B000OY4WDI   \n",
       "5771  A1803TC7DCT5ZA  B000VJJQUU   \n",
       "8631  A1F4KCBVDP8S25  B004ISK48S   \n",
       "5035  A35XRT4BW4I6UD  B000L7MNUM   \n",
       "7850  A3K9OQPCI8UJE   B003BFYDBS   \n",
       "\n",
       "                                                                                                                                                                                                                                                                                                                                                                                                                                                                                                                                                                                                                                                                                                                                                                                                                                                                                                                                                                                                                                                                                                                                                                                                                                                                                                                                                                                                                                                                                                                                                                                                                                                                                                                                                                                                                                                                                                                                                                                                                                                                                                                                                                                                                                                                                                                                                                                                                                                                                                                                                                                                                                                                                                                                                                                                                                                                                                                                                                                                                                                                                                                                                                                                                                                                                                                                                                                                                                                                                                                                                                                                                                                                                                                                                                                  reviewText  \\\n",
       "5239  i bought this pedal new hoping to get an electric solid body guitar to sound somewhat like an acoustic guitar on stage i knew going in that it would not sound like a martin d28 but i thought it would be good enough to play a couple of acoustic part without having to switch guitarsimagine my profound disappointmentreally bos this is by far the worst pedal i have ever used of yours this thing ha a terrible hiss when you turn the top control higher than about 9 oclock at first i thought i must have a defective unit but then i started reading review online seems like it is part of the design it too bad because one can hear some promise in the faux acoustic tone hidden beneath a wall of fizz totally unusable a far a im concerned by the way i tested it direct to a pa a well a into a guitar amp with a single coil guitar strat                                                                                                                                                                                                                                                                                                                                                                                                                                                                                                                                                                                                                                                                                                                                                                                                                                                                                                                                                                                                                                                                                                                                                                                                                                                                                                                                                                                                                                                                                                                                                                                                                                                                                                                                                                                                                                                                                                                                                                                                                                                                                                                                                                                                                                                                                                                                                                                                                                                                                                                                                                                                                                                                                                                                                                                                                                                                                                                           \n",
       "5771  be careful i have a small recording studio so we put our cable through a lot and these guy just dont last they were fine for the first few month but then they started to die like a murder mystery seriously one after another they would just go for no apparent reasonfine one second and then it would just go horribly staticky i actually had two blow at one time and thought my pa wa shot thankfully it wa just these cable not good spend a little extra on another brand these have been my favoritegls audio 25ft cable cord                                                                                                                                                                                                                                                                                                                                                                                                                                                                                                                                                                                                                                                                                                                                                                                                                                                                                                                                                                                                                                                                                                                                                                                                                                                                                                                                                                                                                                                                                                                                                                                                                                                                                                                                                                                                                                                                                                                                                                                                                                                                                                                                                                                                                                                                                                                                                                                                                                                                                                                                                                                                                                                                                                                                                                                                                                                                                                                                                                                                                                                                                                                                                                                                                                                 \n",
       "8631  i purchased this amp locally and initially i thought it wa pretty cool a it wa my first modeling amp lot of potential for a limitless variety of sound this wa my first fender amp a wellthe presets were neat and all but when i played around with some of the standard model just the amp model no effect just to see how it clean sound wa the amp just hissed a if i had the volume cranked with a distortion pedal engaged at max the master volume wa at 2 and no effect were turned on ive never heard a clean channel with so much noise behind it even when there wa no guitar plugged in all i could hear while playing wa the underlying hiss coming through the note very distracting and it drove me nut this isnt a ground loop issue my other amp sound just fine at bedroom volume and beyond it clearly a defect with this product dirty presets with lot of gain and extra volume sound even worse again even when nothing is plugged in and at low master volume youd think i wa running a few super high gain stomp box with a red hot single coil but nothing wa plugged in and all i get is staticyhiss at low level wtfthe next issue is the weird fizz sound that wa especially noticeable on the low e after striking a string instead of a clean note there a weird fizzy digital artifact like sound that surround the note and fade a the string stop moving it almost sound like cymbal crashing on a poorly authored mp3 file at a low bit rate and frequency whole chord break down and decay in this fizzy envelope and really make this thing unplayablethe weird thing is neither one of these problem arose with head phone plugged in or when this wa connected to my computed via either usb or the line in but im not going to be stuck playing a 100 watt amp through my pc or can i got the iii instead of the ii because of the power behind it and the touted 12 celestion speakerread the many review online or forum post on many of the guitaramp related website there a 65 page forum post on the fender support site that is quite interesting and youll find that these amp are having issue apparently the mustang i and ii dont have these issue and the firmware update did nothing to correct my amp is this a hardware issue software issue speaker issue there is speculation that the lcd screen which is not present on the i or ii may be causing problem but no one seems to know for sure and fender doesnt seem to caredefinitely try this before you buy it you may get an amp that doesnt have these problem you may not notice the sound or you may not even care let your ear tell you what sound goodthis amp ha a lot of potential for great sound and it would have been nice to have faithful modeling of some great vintage amp but in my opinion technical issue have made this amp sound like complete garbage i am disappointed that fender hasnt yet correct what ever is wrong some folk claim that fender rep say that know what is wrong but im not taking that a a fact but they have acknowledged that there is something wrongwhatever i took this back after a few day of playing with it trying to eliminate the junk sound without success the builtin noise gate help a little but suck tone and i picked up a 100 watt marshall instead guess what the clean channel ha zero hum or buzz even when cranked how about that even when i engage a dirt box on one of the dirty channel there is minimal noiseill knock fender for not correcting this issue regardless of what it is and what caused it but they do have some other nice amp that id like to try but before i buy another fender amp ill take it for a test drive and i suggest you do the same before picking up one of these turd   \n",
       "5035  not very bright not very flexible too big clunky i really dont like it i wish i had went in a different direction                                                                                                                                                                                                                                                                                                                                                                                                                                                                                                                                                                                                                                                                                                                                                                                                                                                                                                                                                                                                                                                                                                                                                                                                                                                                                                                                                                                                                                                                                                                                                                                                                                                                                                                                                                                                                                                                                                                                                                                                                                                                                                                                                                                                                                                                                                                                                                                                                                                                                                                                                                                                                                                                                                                                                                                                                                                                                                                                                                                                                                                                                                                                                                                                                                                                                                                                                                                                                                                                                                                                                                                                                                                                        \n",
       "7850  one of the ball bearing designed to catch and lock the side mounted to the strap dislodged and my very expensive fender custom shop telecaster fell flat on the ground                                                                                                                                                                                                                                                                                                                                                                                                                                                                                                                                                                                                                                                                                                                                                                                                                                                                                                                                                                                                                                                                                                                                                                                                                                                                                                                                                                                                                                                                                                                                                                                                                                                                                                                                                                                                                                                                                                                                                                                                                                                                                                                                                                                                                                                                                                                                                                                                                                                                                                                                                                                                                                                                                                                                                                                                                                                                                                                                                                                                                                                                                                                                                                                                                                                                                                                                                                                                                                                                                                                                                                                                                   \n",
       "\n",
       "      overall  \\\n",
       "5239  1         \n",
       "5771  1         \n",
       "8631  1         \n",
       "5035  1         \n",
       "7850  1         \n",
       "\n",
       "                                                                   summary  \\\n",
       "5239  The engineers at Boss should be ashamed of themselves                  \n",
       "5771  Ordered three of these, EVERY SINGLE ONE broke within the first year   \n",
       "8631  Fizz and noise issues                                                  \n",
       "5035  Bummer                                                                 \n",
       "7850  Faulty Product                                                         \n",
       "\n",
       "       ratings  \n",
       "5239  Negative  \n",
       "5771  Negative  \n",
       "8631  Negative  \n",
       "5035  Negative  \n",
       "7850  Negative  "
      ]
     },
     "execution_count": 37,
     "metadata": {},
     "output_type": "execute_result"
    }
   ],
   "source": [
    "random_sample.head(5)"
   ]
  },
  {
   "cell_type": "code",
   "execution_count": 38,
   "id": "5c7affca",
   "metadata": {},
   "outputs": [],
   "source": [
    "duplicate_random_sample = random_sample.copy()\n",
    "y = random_sample.pop('ratings').to_frame()\n",
    "X = random_sample.copy()\n",
    "\n",
    "from sklearn.model_selection import train_test_split\n",
    "X_train, X_test, y_train, y_test = train_test_split(\n",
    "        X, y,stratify=y, test_size=0.3)"
   ]
  },
  {
   "cell_type": "code",
   "execution_count": 39,
   "id": "ff87cb30",
   "metadata": {},
   "outputs": [
    {
     "data": {
      "text/plain": [
       "Positive    280\n",
       "Negative    280\n",
       "Neutral     140\n",
       "Name: ratings, dtype: int64"
      ]
     },
     "execution_count": 39,
     "metadata": {},
     "output_type": "execute_result"
    }
   ],
   "source": [
    "y_train['ratings'].value_counts()"
   ]
  },
  {
   "cell_type": "code",
   "execution_count": 40,
   "id": "2c586aaa",
   "metadata": {},
   "outputs": [
    {
     "data": {
      "text/plain": [
       "Positive    120\n",
       "Negative    120\n",
       "Neutral     60 \n",
       "Name: ratings, dtype: int64"
      ]
     },
     "execution_count": 40,
     "metadata": {},
     "output_type": "execute_result"
    }
   ],
   "source": [
    "y_test['ratings'].value_counts()"
   ]
  },
  {
   "cell_type": "code",
   "execution_count": 41,
   "id": "0fc8b0f8",
   "metadata": {},
   "outputs": [
    {
     "data": {
      "text/plain": [
       "Positive    400\n",
       "Negative    400\n",
       "Neutral     200\n",
       "Name: ratings, dtype: int64"
      ]
     },
     "execution_count": 41,
     "metadata": {},
     "output_type": "execute_result"
    }
   ],
   "source": [
    "duplicate_random_sample['ratings'].value_counts()"
   ]
  },
  {
   "cell_type": "code",
   "execution_count": 44,
   "id": "83800668",
   "metadata": {},
   "outputs": [
    {
     "data": {
      "text/html": [
       "<div>\n",
       "<style scoped>\n",
       "    .dataframe tbody tr th:only-of-type {\n",
       "        vertical-align: middle;\n",
       "    }\n",
       "\n",
       "    .dataframe tbody tr th {\n",
       "        vertical-align: top;\n",
       "    }\n",
       "\n",
       "    .dataframe thead th {\n",
       "        text-align: right;\n",
       "    }\n",
       "</style>\n",
       "<table border=\"1\" class=\"dataframe\">\n",
       "  <thead>\n",
       "    <tr style=\"text-align: right;\">\n",
       "      <th></th>\n",
       "      <th>reviewerID</th>\n",
       "      <th>asin</th>\n",
       "      <th>reviewText</th>\n",
       "      <th>overall</th>\n",
       "      <th>summary</th>\n",
       "    </tr>\n",
       "  </thead>\n",
       "  <tbody>\n",
       "    <tr>\n",
       "      <th>1477</th>\n",
       "      <td>A3UZITVEOSRRHD</td>\n",
       "      <td>B0002E1O2M</td>\n",
       "      <td>the nanoweb string do stay clean and they stand up but on the negative sidei replaced one string in my set with a nanoweb and noticed right away the feel wa slippery when picking my finger would slip on the nano string rather than pluck i will stick to cleaning my good old standard string</td>\n",
       "      <td>3</td>\n",
       "      <td>NanoWeb stay clean but</td>\n",
       "    </tr>\n",
       "    <tr>\n",
       "      <th>4338</th>\n",
       "      <td>A1QN075G0OKBWJ</td>\n",
       "      <td>B000CBE3G4</td>\n",
       "      <td>this pedal work but doesnt have the depth of echo i expected i doesnt even come close to the same sound quality of my old dan echo de1 pedal that certainly explains the difference in price you get what you pay for im using it with a fender eightyfive solid state amp i tried it with other amp and it sound the same if youre looking for a good slap echo effect i would recommend spending more money and buy the dan echo de1 pedal or even the danelectro blt slap echo pedal is le expensive than the dan echo but still sound better than the fab echo pedal the fab echo pedal work and you can hear a definite difference with and without it it just not a good a i expected im sorry i bought it and i dont recommend this pedal there are much better one on the market shop around</td>\n",
       "      <td>3</td>\n",
       "      <td>It works.</td>\n",
       "    </tr>\n",
       "    <tr>\n",
       "      <th>5571</th>\n",
       "      <td>A12P4A1OC41KUO</td>\n",
       "      <td>B000SJJCX4</td>\n",
       "      <td>thing work fine easy to understand setting sturdy enough light nice an bright i like ituse with power supply and not batteriesworks best</td>\n",
       "      <td>4</td>\n",
       "      <td>no problems here</td>\n",
       "    </tr>\n",
       "    <tr>\n",
       "      <th>4253</th>\n",
       "      <td>A2Z89YMZZJWBHS</td>\n",
       "      <td>B000B6FBA2</td>\n",
       "      <td>i ordered one of these because i like my other planet wave capo a lot i believe it the older metal version of this not the 34lite34 however this one just doe not screw down enough to hold down the string especially down at the lower fret where the neck is a little thinner on a martin jumbo acoustic it will barely bend the string down behind the fret but not enough to prevent buzzing your fretting hand will naturally push the capo back and out of position quite easily when playing open chord tooim not sure why the plastic version ha this issue when it appears to have an identical design to the old metal one it doesnt seem defective a no part are bent or missing a far a i can tell unless i just happen to get one with a shorter than normal screw i wouldnt recommend it for any guitar without a thick neckmy recommendation is the classic kyser capo thats more dependable and quicker to apply and remove it also attache to your headstock effortlessly when not in use if you are looking for the screwdown style i would look for the older version of this and avoid the 34lite34</td>\n",
       "      <td>2</td>\n",
       "      <td>Will Not Clamp Tightly Enough</td>\n",
       "    </tr>\n",
       "    <tr>\n",
       "      <th>332</th>\n",
       "      <td>A22SZV0N4O2FQM</td>\n",
       "      <td>B0002CZTIO</td>\n",
       "      <td>i bought this pick holder because i hate putting a pick between my string to hold it and because you cant play with a pick in your string i originally thought this thing would be kind of large and go all the way across the headstock boy wa i wrong the picture is misleading this thing is tiny and barely go across three string it wedge under neath two string and you can put two pick maybe more if they are thin into the wedge on top stay in place well and is very convenientonly negative is i dont know how long it will hold up i think maybe a thicker rubber rather than this foam rubber would have held up better i can see this thing eventually losing tension in the pick holder wedge and dropping pick</td>\n",
       "      <td>4</td>\n",
       "      <td>Nice little pick holder</td>\n",
       "    </tr>\n",
       "    <tr>\n",
       "      <th>...</th>\n",
       "      <td>...</td>\n",
       "      <td>...</td>\n",
       "      <td>...</td>\n",
       "      <td>...</td>\n",
       "      <td>...</td>\n",
       "    </tr>\n",
       "    <tr>\n",
       "      <th>1360</th>\n",
       "      <td>A6GXP9ESXIH7O</td>\n",
       "      <td>B0002E1G5C</td>\n",
       "      <td>this winder and cutterwinds and cut finebut the pin puller doe not fit my guitar pin even though the ad claim that 34it fit virtually all guitar banjo and mandolins34 oh wellanother lessson learned</td>\n",
       "      <td>3</td>\n",
       "      <td>Good but not excellent...</td>\n",
       "    </tr>\n",
       "    <tr>\n",
       "      <th>5595</th>\n",
       "      <td>A2BB6IKKR4G40J</td>\n",
       "      <td>B000T517Y4</td>\n",
       "      <td>i am a tone freak i bought this pedal a while back under the impression that it would sound equal to a big muff at the time i had never owned a big muff i thought the sound it produced wa big muff sound i later took it to my friend house and matched setting with a real big muff the difference wa huge the big muff sounded fuller where the little one sounded like you just took the sound and trapped it in a little box i later bought a big muff and it been one of my go to pedal for at least three year of gigging i am currently loving it still but i am curious about the nano big muff because i am looking to clear out space on my board but i will probably not use it if it sound anything le than the real deal i would only use the little big muff if my concern for sound were out shined by the need to minimize board space</td>\n",
       "      <td>2</td>\n",
       "      <td>Sounds like a muff but theres a good reason why its cheaper</td>\n",
       "    </tr>\n",
       "    <tr>\n",
       "      <th>8666</th>\n",
       "      <td>A37KK1CLMULHE4</td>\n",
       "      <td>B004M9CKVM</td>\n",
       "      <td>i have been through a few delay pedal trying to get the sound i want1 bos digital delay i really didnt like the sound of the delay overall no real positive to mention2 carbon copy analog delay worked great for clean but totally muddied up my lead distortion tone even though it wa in my fx loop i couldnt get the repeat to duck under the main signal3 nova delay i really wanted to like this presets tap tempo and a nice feature set but the sound just lacked warmth it wa very digital soundingat this point i wasnt sure what i wanted analog delay were warm sounding but too mushy digital delay were clear sounding but just too digital and uninspiringi wa debating springing an insane amount of money on the strymon timeline when i found this pedal analog dry signal thru with digital delay this is what the magic sauce is in my opinion now my signal ha the nice separation of the digital delay and my underlying tone is preserved set it to the 2290 type delay and it perfect sure it doesnt have the presets and what not but for a good sounding delay this cant be beat at this price rangesure enough when i checked the strymon timeline spec i found out that it too ha the analog dry through with digital delay just that it delay may be modeled better and it ha a rich feature set but 450 for a delay pedal is just too much for mebuy this if you are chasing tone you wont be disappointed skip if looking for presets tap tempo etc</td>\n",
       "      <td>5</td>\n",
       "      <td>The search for a delay pedal ends !</td>\n",
       "    </tr>\n",
       "    <tr>\n",
       "      <th>1748</th>\n",
       "      <td>A36OSNJ4YJSGEP</td>\n",
       "      <td>B0002E37MM</td>\n",
       "      <td>only lasted 2yr i have a lot of cheaper cable that get more useabuse than this one that have outlasted it</td>\n",
       "      <td>1</td>\n",
       "      <td>Very Disappointed!!!</td>\n",
       "    </tr>\n",
       "    <tr>\n",
       "      <th>1337</th>\n",
       "      <td>A1CF9IF5FWYNU0</td>\n",
       "      <td>B0002E1G5C</td>\n",
       "      <td>the wire clipper and winder work ok but the pin puller is badly designed and doesnt slip under the ball of the pin in order to lift it out bad design by someone who doesnt use it to pull pin out of a bridge i end up using a jim dunlop capo to pull bridge pin out ive done it successfully for year</td>\n",
       "      <td>2</td>\n",
       "      <td>Disappointed</td>\n",
       "    </tr>\n",
       "  </tbody>\n",
       "</table>\n",
       "<p>700 rows × 5 columns</p>\n",
       "</div>"
      ],
      "text/plain": [
       "          reviewerID        asin  \\\n",
       "1477  A3UZITVEOSRRHD  B0002E1O2M   \n",
       "4338  A1QN075G0OKBWJ  B000CBE3G4   \n",
       "5571  A12P4A1OC41KUO  B000SJJCX4   \n",
       "4253  A2Z89YMZZJWBHS  B000B6FBA2   \n",
       "332   A22SZV0N4O2FQM  B0002CZTIO   \n",
       "...              ...         ...   \n",
       "1360  A6GXP9ESXIH7O   B0002E1G5C   \n",
       "5595  A2BB6IKKR4G40J  B000T517Y4   \n",
       "8666  A37KK1CLMULHE4  B004M9CKVM   \n",
       "1748  A36OSNJ4YJSGEP  B0002E37MM   \n",
       "1337  A1CF9IF5FWYNU0  B0002E1G5C   \n",
       "\n",
       "                                                                                                                                                                                                                                                                                                                                                                                                                                                                                                                                                                                                                                                                                                                                                                                                                                                                                                                                                                                                                                                                                                                                                                                                                                                                                                                                                                                                                                                                              reviewText  \\\n",
       "1477  the nanoweb string do stay clean and they stand up but on the negative sidei replaced one string in my set with a nanoweb and noticed right away the feel wa slippery when picking my finger would slip on the nano string rather than pluck i will stick to cleaning my good old standard string                                                                                                                                                                                                                                                                                                                                                                                                                                                                                                                                                                                                                                                                                                                                                                                                                                                                                                                                                                                                                                                                                                                                                                                    \n",
       "4338  this pedal work but doesnt have the depth of echo i expected i doesnt even come close to the same sound quality of my old dan echo de1 pedal that certainly explains the difference in price you get what you pay for im using it with a fender eightyfive solid state amp i tried it with other amp and it sound the same if youre looking for a good slap echo effect i would recommend spending more money and buy the dan echo de1 pedal or even the danelectro blt slap echo pedal is le expensive than the dan echo but still sound better than the fab echo pedal the fab echo pedal work and you can hear a definite difference with and without it it just not a good a i expected im sorry i bought it and i dont recommend this pedal there are much better one on the market shop around                                                                                                                                                                                                                                                                                                                                                                                                                                                                                                                                                                                                                                                                                 \n",
       "5571  thing work fine easy to understand setting sturdy enough light nice an bright i like ituse with power supply and not batteriesworks best                                                                                                                                                                                                                                                                                                                                                                                                                                                                                                                                                                                                                                                                                                                                                                                                                                                                                                                                                                                                                                                                                                                                                                                                                                                                                                                                             \n",
       "4253  i ordered one of these because i like my other planet wave capo a lot i believe it the older metal version of this not the 34lite34 however this one just doe not screw down enough to hold down the string especially down at the lower fret where the neck is a little thinner on a martin jumbo acoustic it will barely bend the string down behind the fret but not enough to prevent buzzing your fretting hand will naturally push the capo back and out of position quite easily when playing open chord tooim not sure why the plastic version ha this issue when it appears to have an identical design to the old metal one it doesnt seem defective a no part are bent or missing a far a i can tell unless i just happen to get one with a shorter than normal screw i wouldnt recommend it for any guitar without a thick neckmy recommendation is the classic kyser capo thats more dependable and quicker to apply and remove it also attache to your headstock effortlessly when not in use if you are looking for the screwdown style i would look for the older version of this and avoid the 34lite34                                                                                                                                                                                                                                                                                                                                                             \n",
       "332   i bought this pick holder because i hate putting a pick between my string to hold it and because you cant play with a pick in your string i originally thought this thing would be kind of large and go all the way across the headstock boy wa i wrong the picture is misleading this thing is tiny and barely go across three string it wedge under neath two string and you can put two pick maybe more if they are thin into the wedge on top stay in place well and is very convenientonly negative is i dont know how long it will hold up i think maybe a thicker rubber rather than this foam rubber would have held up better i can see this thing eventually losing tension in the pick holder wedge and dropping pick                                                                                                                                                                                                                                                                                                                                                                                                                                                                                                                                                                                                                                                                                                                                                     \n",
       "...                                                                                                                                                                                                                                                                                                                                                                                                                                                                                                                                                                                                                                                                                                                                ...                                                                                                                                                                                                                                                                                                                                                                                                                                                                                                                                                                                                                                                                                                                                                     \n",
       "1360  this winder and cutterwinds and cut finebut the pin puller doe not fit my guitar pin even though the ad claim that 34it fit virtually all guitar banjo and mandolins34 oh wellanother lessson learned                                                                                                                                                                                                                                                                                                                                                                                                                                                                                                                                                                                                                                                                                                                                                                                                                                                                                                                                                                                                                                                                                                                                                                                                                                                                                \n",
       "5595  i am a tone freak i bought this pedal a while back under the impression that it would sound equal to a big muff at the time i had never owned a big muff i thought the sound it produced wa big muff sound i later took it to my friend house and matched setting with a real big muff the difference wa huge the big muff sounded fuller where the little one sounded like you just took the sound and trapped it in a little box i later bought a big muff and it been one of my go to pedal for at least three year of gigging i am currently loving it still but i am curious about the nano big muff because i am looking to clear out space on my board but i will probably not use it if it sound anything le than the real deal i would only use the little big muff if my concern for sound were out shined by the need to minimize board space                                                                                                                                                                                                                                                                                                                                                                                                                                                                                                                                                                                                                             \n",
       "8666  i have been through a few delay pedal trying to get the sound i want1 bos digital delay i really didnt like the sound of the delay overall no real positive to mention2 carbon copy analog delay worked great for clean but totally muddied up my lead distortion tone even though it wa in my fx loop i couldnt get the repeat to duck under the main signal3 nova delay i really wanted to like this presets tap tempo and a nice feature set but the sound just lacked warmth it wa very digital soundingat this point i wasnt sure what i wanted analog delay were warm sounding but too mushy digital delay were clear sounding but just too digital and uninspiringi wa debating springing an insane amount of money on the strymon timeline when i found this pedal analog dry signal thru with digital delay this is what the magic sauce is in my opinion now my signal ha the nice separation of the digital delay and my underlying tone is preserved set it to the 2290 type delay and it perfect sure it doesnt have the presets and what not but for a good sounding delay this cant be beat at this price rangesure enough when i checked the strymon timeline spec i found out that it too ha the analog dry through with digital delay just that it delay may be modeled better and it ha a rich feature set but 450 for a delay pedal is just too much for mebuy this if you are chasing tone you wont be disappointed skip if looking for presets tap tempo etc   \n",
       "1748  only lasted 2yr i have a lot of cheaper cable that get more useabuse than this one that have outlasted it                                                                                                                                                                                                                                                                                                                                                                                                                                                                                                                                                                                                                                                                                                                                                                                                                                                                                                                                                                                                                                                                                                                                                                                                                                                                                                                                                                            \n",
       "1337  the wire clipper and winder work ok but the pin puller is badly designed and doesnt slip under the ball of the pin in order to lift it out bad design by someone who doesnt use it to pull pin out of a bridge i end up using a jim dunlop capo to pull bridge pin out ive done it successfully for year                                                                                                                                                                                                                                                                                                                                                                                                                                                                                                                                                                                                                                                                                                                                                                                                                                                                                                                                                                                                                                                                                                                                                                             \n",
       "\n",
       "      overall                                                      summary  \n",
       "1477  3        NanoWeb stay clean but                                       \n",
       "4338  3        It works.                                                    \n",
       "5571  4        no problems here                                             \n",
       "4253  2        Will Not Clamp Tightly Enough                                \n",
       "332   4        Nice little pick holder                                      \n",
       "...  ..                            ...                                      \n",
       "1360  3        Good but not excellent...                                    \n",
       "5595  2        Sounds like a muff but theres a good reason why its cheaper  \n",
       "8666  5        The search for a delay pedal ends !                          \n",
       "1748  1        Very Disappointed!!!                                         \n",
       "1337  2        Disappointed                                                 \n",
       "\n",
       "[700 rows x 5 columns]"
      ]
     },
     "execution_count": 44,
     "metadata": {},
     "output_type": "execute_result"
    }
   ],
   "source": [
    "X_train"
   ]
  },
  {
   "cell_type": "markdown",
   "id": "4e74d314",
   "metadata": {},
   "source": [
    "# Text Representation"
   ]
  },
  {
   "cell_type": "code",
   "execution_count": 47,
   "id": "6da32b81",
   "metadata": {},
   "outputs": [
    {
     "data": {
      "text/plain": [
       "<700x6339 sparse matrix of type '<class 'numpy.float64'>'\n",
       "\twith 43905 stored elements in Compressed Sparse Row format>"
      ]
     },
     "execution_count": 47,
     "metadata": {},
     "output_type": "execute_result"
    }
   ],
   "source": [
    "#TF-IDF\n",
    "\n",
    "#Import TfIdfVectorizer from the scikit-learn library\n",
    "from sklearn.feature_extraction.text import TfidfVectorizer\n",
    "\n",
    "#Define a TF-IDF Vectorizer Object. Remove all english stopwords\n",
    "tfidf = TfidfVectorizer()\n",
    "\n",
    "\n",
    "#Construct the required TF-IDF matrix by applying the fit_transform method on the overview feature\n",
    "tfidf_matrix = tfidf.fit_transform(X_train['reviewText'])\n",
    "\n",
    "#Output the shape of tfidf_matrix\n",
    "tfidf_matrix.shape"
   ]
  },
  {
   "cell_type": "code",
   "execution_count": 48,
   "id": "2e04a028",
   "metadata": {},
   "outputs": [
    {
     "data": {
      "text/plain": [
       "(700, 6339)"
      ]
     },
     "execution_count": 48,
     "metadata": {},
     "output_type": "execute_result"
    }
   ],
   "source": [
    "#Bag of words for Text Representation\n",
    "\n",
    "from sklearn.feature_extraction.text import CountVectorizer\n",
    "\n",
    "CountVec = CountVectorizer()\n",
    "#transform\n",
    "Count_data = CountVec.fit_transform(X_train['reviewText'])\n",
    "\n",
    "Count_data.shape"
   ]
  },
  {
   "cell_type": "code",
   "execution_count": 4,
   "id": "3d062a5e",
   "metadata": {},
   "outputs": [
    {
     "data": {
      "text/plain": [
       "'pip install gensim\\npip install nltk'"
      ]
     },
     "execution_count": 4,
     "metadata": {},
     "output_type": "execute_result"
    }
   ],
   "source": [
    "\"\"\"pip install gensim\n",
    "pip install nltk\"\"\""
   ]
  },
  {
   "cell_type": "code",
   "execution_count": null,
   "id": "f4861226",
   "metadata": {},
   "outputs": [],
   "source": [
    "\"\"\"from nltk.tokenize import sent_tokenize, word_tokenize\n",
    "import gensim\n",
    "from gensim.models import Word2Vec\"\"\""
   ]
  },
  {
   "cell_type": "code",
   "execution_count": null,
   "id": "02bbb260",
   "metadata": {},
   "outputs": [],
   "source": [
    "\"\"\"\"corpus_text = 'n'.join(rev[:1000]['reviewText'])\n",
    "data = []\n",
    "# iterate through each sentence in the file\n",
    "for i in sent_tokenize(corpus_text):\n",
    "    temp = []\n",
    "    # tokenize the sentence into words\n",
    "    for j in word_tokenize(i):\n",
    "        temp.append(j.lower())\n",
    "    data.append(temp)"
   ]
  },
  {
   "cell_type": "code",
   "execution_count": null,
   "id": "a4e310c8",
   "metadata": {},
   "outputs": [],
   "source": [
    "\"\"S\"\"model1 = gensim.models.Word2Vec(data, min_count = 1,size = 100, window = 5, sg=0) \n",
    "model2 = gensim.models.Word2Vec(data, min_count = 1, size = 100, window = 5, sg = 1)\"\"\""
   ]
  }
 ],
 "metadata": {
  "kernelspec": {
   "display_name": "Python 3 (ipykernel)",
   "language": "python",
   "name": "python3"
  },
  "language_info": {
   "codemirror_mode": {
    "name": "ipython",
    "version": 3
   },
   "file_extension": ".py",
   "mimetype": "text/x-python",
   "name": "python",
   "nbconvert_exporter": "python",
   "pygments_lexer": "ipython3",
   "version": "3.8.12"
  }
 },
 "nbformat": 4,
 "nbformat_minor": 5
}
